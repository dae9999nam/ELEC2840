{
 "cells": [
  {
   "cell_type": "code",
   "execution_count": 4,
   "metadata": {},
   "outputs": [],
   "source": [
    "import numpy as np"
   ]
  },
  {
   "cell_type": "code",
   "execution_count": 5,
   "metadata": {},
   "outputs": [],
   "source": [
    "# create a 1D array\n",
    "x = np.array([0, 1, 2, 3, 4, 5, 6])"
   ]
  },
  {
   "cell_type": "code",
   "execution_count": 7,
   "metadata": {},
   "outputs": [
    {
     "data": {
      "text/plain": [
       "array([1, 2, 3, 4, 5, 6])"
      ]
     },
     "execution_count": 7,
     "metadata": {},
     "output_type": "execute_result"
    }
   ],
   "source": [
    "# find all non-zero elements in x\n",
    "x[x!=0]"
   ]
  },
  {
   "cell_type": "code",
   "execution_count": 38,
   "metadata": {},
   "outputs": [],
   "source": [
    "# create a 5x5 matrix A with random numbers\n",
    "A = np.random.randn(5, 5)\n",
    "\n",
    "# create a 5x5 identity matrix B\n",
    "B = np.eye(5)"
   ]
  },
  {
   "cell_type": "code",
   "execution_count": 39,
   "metadata": {},
   "outputs": [
    {
     "data": {
      "text/plain": [
       "array([[ 0.24106559,  1.58106141,  3.72825688, -0.37155701,  0.88428195],\n",
       "       [ 1.68043348,  1.88622408,  0.1678164 , -1.45227759, -1.00385795],\n",
       "       [ 0.72027424, -0.61107632,  0.72827823, -0.38261565, -0.41513977],\n",
       "       [ 0.83028903, -0.65074747,  0.78734604,  1.67027903,  0.14297529],\n",
       "       [-0.16985516,  0.29524993,  0.20705078,  0.62814617, -0.97738283]])"
      ]
     },
     "execution_count": 39,
     "metadata": {},
     "output_type": "execute_result"
    }
   ],
   "source": [
    "# calculate the following equations\n",
    "# A + B\n",
    "# A - B\n",
    "# A * B (matrix product)\n",
    "# A' (transpose of A)\n",
    "A + B"
   ]
  },
  {
   "cell_type": "code",
   "execution_count": 14,
   "metadata": {},
   "outputs": [
    {
     "data": {
      "text/plain": [
       "array([[-1.9624023 , -3.16172528, -1.37575593,  0.19331449,  1.23301196],\n",
       "       [-0.54023301, -3.44689493,  0.41189332,  0.2634931 , -0.32233463],\n",
       "       [-0.98810722,  0.08898256, -0.81477597,  0.29828431, -2.00060033],\n",
       "       [-0.86592708, -1.2972045 , -1.676434  , -0.68386101,  0.58099567],\n",
       "       [ 1.41108757,  1.07136593,  0.56986844,  0.6704895 , -1.11046117]])"
      ]
     },
     "execution_count": 14,
     "metadata": {},
     "output_type": "execute_result"
    }
   ],
   "source": [
    "A - B"
   ]
  },
  {
   "cell_type": "code",
   "execution_count": null,
   "metadata": {},
   "outputs": [],
   "source": [
    "# calculate the mean, sum, max, min value for each column in A\n"
   ]
  },
  {
   "cell_type": "code",
   "execution_count": 15,
   "metadata": {},
   "outputs": [
    {
     "data": {
      "text/plain": [
       "array([[-0.9624023 , -0.        , -0.        ,  0.        ,  0.        ],\n",
       "       [-0.        , -2.44689493,  0.        ,  0.        , -0.        ],\n",
       "       [-0.        ,  0.        ,  0.18522403,  0.        , -0.        ],\n",
       "       [-0.        , -0.        , -0.        ,  0.31613899,  0.        ],\n",
       "       [ 0.        ,  0.        ,  0.        ,  0.        , -0.11046117]])"
      ]
     },
     "execution_count": 15,
     "metadata": {},
     "output_type": "execute_result"
    }
   ],
   "source": [
    "A * B"
   ]
  },
  {
   "cell_type": "code",
   "execution_count": 16,
   "metadata": {
    "scrolled": true
   },
   "outputs": [
    {
     "data": {
      "text/plain": [
       "array([[-0.9624023 , -0.54023301, -0.98810722, -0.86592708,  1.41108757],\n",
       "       [-3.16172528, -2.44689493,  0.08898256, -1.2972045 ,  1.07136593],\n",
       "       [-1.37575593,  0.41189332,  0.18522403, -1.676434  ,  0.56986844],\n",
       "       [ 0.19331449,  0.2634931 ,  0.29828431,  0.31613899,  0.6704895 ],\n",
       "       [ 1.23301196, -0.32233463, -2.00060033,  0.58099567, -0.11046117]])"
      ]
     },
     "execution_count": 16,
     "metadata": {},
     "output_type": "execute_result"
    }
   ],
   "source": [
    "A.T"
   ]
  },
  {
   "cell_type": "code",
   "execution_count": 40,
   "metadata": {},
   "outputs": [
    {
     "data": {
      "text/plain": [
       "array([[-0.75893441,  1.58106141,  3.72825688, -0.37155701,  0.88428195],\n",
       "       [ 1.68043348,  0.88622408,  0.1678164 , -1.45227759, -1.00385795],\n",
       "       [ 0.72027424, -0.61107632, -0.27172177, -0.38261565, -0.41513977],\n",
       "       [ 0.83028903, -0.65074747,  0.78734604,  0.67027903,  0.14297529],\n",
       "       [-0.16985516,  0.29524993,  0.20705078,  0.62814617, -1.97738283]])"
      ]
     },
     "execution_count": 40,
     "metadata": {},
     "output_type": "execute_result"
    }
   ],
   "source": [
    "A"
   ]
  },
  {
   "cell_type": "code",
   "execution_count": 41,
   "metadata": {},
   "outputs": [
    {
     "data": {
      "text/plain": [
       "array([[0.21355159, 0.62367139, 1.        , 0.43901216, 0.7823424 ],\n",
       "       [1.        , 0.9617866 , 0.72049829, 0.1763647 , 0.32697337],\n",
       "       [0.90604978, 0.45889514, 0.57287261, 0.53562719, 0.52470346],\n",
       "       [0.94299995, 0.44557097, 0.92857688, 0.88925812, 0.71215502],\n",
       "       [0.60708608, 0.76329881, 0.73367576, 0.87510715, 0.        ]])"
      ]
     },
     "execution_count": 41,
     "metadata": {},
     "output_type": "execute_result"
    }
   ],
   "source": [
    "# normalize A with its max value A_max and min value A_min\n",
    "# i.e., for any value x in A,\n",
    "# x = (x - A_min) / (A_max - A_min)\n",
    "for i in range(5):\n",
    "    for j in range(5):\n",
    "        x = A[i,j]\n",
    "        A[i, j] = (x - A.min()) / (A.max() - A.min())\n",
    "A"
   ]
  },
  {
   "cell_type": "code",
   "execution_count": 42,
   "metadata": {},
   "outputs": [
    {
     "data": {
      "text/plain": [
       "array([2., 3.])"
      ]
     },
     "execution_count": 42,
     "metadata": {},
     "output_type": "execute_result"
    }
   ],
   "source": [
    "# advanced exercise\n",
    "# solve the system of equations:\n",
    "# 3 * x0 + x1 = 9\n",
    "# x0 + 2 * x1 = 8\n",
    "\n",
    "# Ax = b \n",
    "A = np.array([[3, 1], [1, 2]])\n",
    "b = np.array([9, 8])\n",
    "x = np.linalg.solve(A, b)\n",
    "x"
   ]
  },
  {
   "cell_type": "code",
   "execution_count": 48,
   "metadata": {},
   "outputs": [
    {
     "data": {
      "text/plain": [
       "array([[-1.6,  4.6],\n",
       "       [ 3.8, -1.8]])"
      ]
     },
     "execution_count": 48,
     "metadata": {},
     "output_type": "execute_result"
    }
   ],
   "source": [
    "# compare x with the product of inverse A and b\n",
    "x - np.linalg.inv(A) * b"
   ]
  }
 ],
 "metadata": {
  "kernelspec": {
   "display_name": "Python 3 (ipykernel)",
   "language": "python",
   "name": "python3"
  },
  "language_info": {
   "codemirror_mode": {
    "name": "ipython",
    "version": 3
   },
   "file_extension": ".py",
   "mimetype": "text/x-python",
   "name": "python",
   "nbconvert_exporter": "python",
   "pygments_lexer": "ipython3",
   "version": "3.7.3"
  }
 },
 "nbformat": 4,
 "nbformat_minor": 2
}
