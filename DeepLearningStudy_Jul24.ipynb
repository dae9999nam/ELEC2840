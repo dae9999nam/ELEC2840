{
  "cells": [
    {
      "cell_type": "markdown",
      "metadata": {
        "colab_type": "text",
        "id": "view-in-github"
      },
      "source": [
        "<a href=\"https://colab.research.google.com/github/dae9999nam/SL_Blog/blob/main/DeepLearningStudy_Jul24.ipynb\" target=\"_parent\"><img src=\"https://colab.research.google.com/assets/colab-badge.svg\" alt=\"Open In Colab\"/></a>"
      ]
    },
    {
      "cell_type": "markdown",
      "metadata": {
        "id": "lnfPyDbqxMdF"
      },
      "source": [
        "**Pytorch Self Learning Study**\n",
        "###Reference: https://pytorch.org/docs/stable/\n",
        "###Youtube source: https://www.youtube.com/watch?v=V_xro1bcAuA&t=2598s"
      ]
    },
    {
      "cell_type": "markdown",
      "metadata": {
        "id": "3FhS0TTxx8su"
      },
      "source": [
        "Start Date: 2024.07.24"
      ]
    },
    {
      "cell_type": "markdown",
      "metadata": {
        "id": "FQ44S_HWx--L"
      },
      "source": [
        "Notebook Setting: T4 GPU"
      ]
    },
    {
      "cell_type": "code",
      "execution_count": 1,
      "metadata": {
        "colab": {
          "base_uri": "https://localhost:8080/"
        },
        "id": "mlhegGQXxWiY",
        "outputId": "90e0e16c-bd2b-43d2-c3ba-198280b5255e"
      },
      "outputs": [
        {
          "name": "stdout",
          "output_type": "stream",
          "text": [
            "2.3.1+cu121\n"
          ]
        }
      ],
      "source": [
        "import torch\n",
        "import numpy as np\n",
        "import pandas as pd\n",
        "import matplotlib.pyplot as plt\n",
        "print(torch.__version__)"
      ]
    },
    {
      "cell_type": "markdown",
      "metadata": {
        "id": "0j9rw1Sh0-aH"
      },
      "source": []
    },
    {
      "cell_type": "markdown",
      "metadata": {
        "id": "pMKxmQG30WvL"
      },
      "source": [
        "torch version: 2.3.1 cubaversion: 1.2.1"
      ]
    },
    {
      "cell_type": "markdown",
      "metadata": {
        "id": "HINYzsRj2Ahg"
      },
      "source": []
    },
    {
      "cell_type": "markdown",
      "metadata": {
        "id": "XdKHrCc51Twt"
      },
      "source": [
        "##1. Introduction to Tensors\n"
      ]
    },
    {
      "cell_type": "markdown",
      "metadata": {
        "id": "PbbvCIda--U0"
      },
      "source": [
        "###1-1.Creating Tensors and observe the characters"
      ]
    },
    {
      "cell_type": "code",
      "execution_count": 2,
      "metadata": {
        "colab": {
          "base_uri": "https://localhost:8080/"
        },
        "id": "5QnvXxqi0390",
        "outputId": "b857bba7-8fe6-4acb-8168-ea5fce726bc4"
      },
      "outputs": [
        {
          "data": {
            "text/plain": [
              "tensor(7)"
            ]
          },
          "execution_count": 2,
          "metadata": {},
          "output_type": "execute_result"
        }
      ],
      "source": [
        "#Scalars\n",
        "scalar = torch.tensor(7)\n",
        "scalar"
      ]
    },
    {
      "cell_type": "code",
      "execution_count": 3,
      "metadata": {
        "colab": {
          "base_uri": "https://localhost:8080/"
        },
        "id": "cSSaSXm74h01",
        "outputId": "7a36929c-6711-4553-c4ed-463441ae88ac"
      },
      "outputs": [
        {
          "data": {
            "text/plain": [
              "0"
            ]
          },
          "execution_count": 3,
          "metadata": {},
          "output_type": "execute_result"
        }
      ],
      "source": [
        "scalar.ndim"
      ]
    },
    {
      "cell_type": "code",
      "execution_count": 4,
      "metadata": {
        "colab": {
          "base_uri": "https://localhost:8080/"
        },
        "id": "jXKteoeB4moI",
        "outputId": "fec0a966-c941-4a16-ac6e-e31996631508"
      },
      "outputs": [
        {
          "data": {
            "text/plain": [
              "7"
            ]
          },
          "execution_count": 4,
          "metadata": {},
          "output_type": "execute_result"
        }
      ],
      "source": [
        "scalar.item()"
      ]
    },
    {
      "cell_type": "code",
      "execution_count": 5,
      "metadata": {
        "colab": {
          "base_uri": "https://localhost:8080/"
        },
        "id": "g-rkYXoU4r7e",
        "outputId": "15d57fed-95c1-4920-95c8-1b201b2879ad"
      },
      "outputs": [
        {
          "data": {
            "text/plain": [
              "tensor([1, 1])"
            ]
          },
          "execution_count": 5,
          "metadata": {},
          "output_type": "execute_result"
        }
      ],
      "source": [
        "#vectors\n",
        "vectors = torch.tensor([1,1])\n",
        "vectors"
      ]
    },
    {
      "cell_type": "code",
      "execution_count": 6,
      "metadata": {
        "colab": {
          "base_uri": "https://localhost:8080/"
        },
        "id": "nS_7yQBu49KH",
        "outputId": "3e766014-f1a7-4fa9-e055-4fa10cf9e0f1"
      },
      "outputs": [
        {
          "data": {
            "text/plain": [
              "1"
            ]
          },
          "execution_count": 6,
          "metadata": {},
          "output_type": "execute_result"
        }
      ],
      "source": [
        "vectors.ndim"
      ]
    },
    {
      "cell_type": "code",
      "execution_count": 7,
      "metadata": {
        "colab": {
          "base_uri": "https://localhost:8080/"
        },
        "id": "J93RJ_mn5FnY",
        "outputId": "bbc391b0-febd-4624-81c9-fbf95e593865"
      },
      "outputs": [
        {
          "data": {
            "text/plain": [
              "torch.Size([2])"
            ]
          },
          "execution_count": 7,
          "metadata": {},
          "output_type": "execute_result"
        }
      ],
      "source": [
        "vectors.shape"
      ]
    },
    {
      "cell_type": "code",
      "execution_count": 8,
      "metadata": {
        "colab": {
          "base_uri": "https://localhost:8080/"
        },
        "id": "x_j8C1Qa5JHX",
        "outputId": "da85af1d-0769-4c51-950c-b2c02f801625"
      },
      "outputs": [
        {
          "data": {
            "text/plain": [
              "tensor([[1, 2],\n",
              "        [3, 4]])"
            ]
          },
          "execution_count": 8,
          "metadata": {},
          "output_type": "execute_result"
        }
      ],
      "source": [
        "#MATRIX\n",
        "MATRIX = torch.tensor([[1,2],[3,4]])\n",
        "MATRIX"
      ]
    },
    {
      "cell_type": "code",
      "execution_count": 9,
      "metadata": {
        "colab": {
          "base_uri": "https://localhost:8080/"
        },
        "id": "estA-Kxq5PMt",
        "outputId": "4e6903cc-d852-4ddf-abc5-9ce8195f914f"
      },
      "outputs": [
        {
          "data": {
            "text/plain": [
              "2"
            ]
          },
          "execution_count": 9,
          "metadata": {},
          "output_type": "execute_result"
        }
      ],
      "source": [
        "MATRIX.ndim"
      ]
    },
    {
      "cell_type": "code",
      "execution_count": 10,
      "metadata": {
        "colab": {
          "base_uri": "https://localhost:8080/"
        },
        "id": "axFnnOAF5R0f",
        "outputId": "a9f44f90-b6ec-4b36-d76c-c2e8bcadfc57"
      },
      "outputs": [
        {
          "data": {
            "text/plain": [
              "torch.Size([2, 2])"
            ]
          },
          "execution_count": 10,
          "metadata": {},
          "output_type": "execute_result"
        }
      ],
      "source": [
        "MATRIX.shape"
      ]
    },
    {
      "cell_type": "code",
      "execution_count": 11,
      "metadata": {
        "colab": {
          "base_uri": "https://localhost:8080/"
        },
        "id": "EyuJlLti5WFE",
        "outputId": "ad895b3b-bb0b-46b4-afe1-a933e75603fb"
      },
      "outputs": [
        {
          "data": {
            "text/plain": [
              "tensor([[[1, 2, 3],\n",
              "         [4, 5, 6],\n",
              "         [7, 8, 9]]])"
            ]
          },
          "execution_count": 11,
          "metadata": {},
          "output_type": "execute_result"
        }
      ],
      "source": [
        "#TENSORS\n",
        "TENSOR = torch.tensor([[[1,2,3],\n",
        "                        [4,5,6],\n",
        "                        [7,8,9]]])\n",
        "TENSOR"
      ]
    },
    {
      "cell_type": "code",
      "execution_count": 12,
      "metadata": {
        "colab": {
          "base_uri": "https://localhost:8080/"
        },
        "id": "uXXRe4Vi5qS-",
        "outputId": "9868d841-57bc-42c8-eb6e-d8d9d9ead417"
      },
      "outputs": [
        {
          "data": {
            "text/plain": [
              "3"
            ]
          },
          "execution_count": 12,
          "metadata": {},
          "output_type": "execute_result"
        }
      ],
      "source": [
        "TENSOR.ndim"
      ]
    },
    {
      "cell_type": "code",
      "execution_count": 13,
      "metadata": {
        "colab": {
          "base_uri": "https://localhost:8080/"
        },
        "id": "vMIzWAtw5s60",
        "outputId": "d75aebd8-9a52-4c7f-a15e-e303bb20b983"
      },
      "outputs": [
        {
          "data": {
            "text/plain": [
              "torch.Size([1, 3, 3])"
            ]
          },
          "execution_count": 13,
          "metadata": {},
          "output_type": "execute_result"
        }
      ],
      "source": [
        "TENSOR.shape"
      ]
    },
    {
      "cell_type": "markdown",
      "metadata": {
        "id": "1izA3D3a6JGi"
      },
      "source": [
        "#####Variable name for scalar and vector are represented by lower case\n",
        "#####Variable name for MATRIX and TENSOR are represented by upper case"
      ]
    },
    {
      "cell_type": "markdown",
      "metadata": {
        "id": "g1iWIfc45609"
      },
      "source": [
        "###1.2 Creating Random Tensors\n",
        "####Why random tensor\n",
        "#####Random tensors are important because the way neural networks learn is that they start with tensors full of random numbers and then adjust those random numbers to better represent the data.\n",
        "`Start with random numbers -> look at data -> update random numbers -> look at data -> update random numbers`"
      ]
    },
    {
      "cell_type": "code",
      "execution_count": 14,
      "metadata": {
        "colab": {
          "base_uri": "https://localhost:8080/"
        },
        "id": "h9DJfFHG8XTU",
        "outputId": "703e0d77-aad0-42bc-a6ee-3cc9ac117b50"
      },
      "outputs": [
        {
          "data": {
            "text/plain": [
              "tensor([[0.9336, 0.4521, 0.6500, 0.9257],\n",
              "        [0.6043, 0.0626, 0.4825, 0.8052],\n",
              "        [0.7144, 0.4887, 0.6587, 0.2789]])"
            ]
          },
          "execution_count": 14,
          "metadata": {},
          "output_type": "execute_result"
        }
      ],
      "source": [
        "#Create random tensors\n",
        "random_tensor = torch.rand(3,4) # == torch.rand(size=(3,4))\n",
        "random_tensor"
      ]
    },
    {
      "cell_type": "code",
      "execution_count": 15,
      "metadata": {
        "colab": {
          "base_uri": "https://localhost:8080/"
        },
        "id": "9DGtbhv989ME",
        "outputId": "a687d5c0-8718-4d96-b757-7c381370e5da"
      },
      "outputs": [
        {
          "data": {
            "text/plain": [
              "(torch.Size([224, 224, 3]), 3)"
            ]
          },
          "execution_count": 15,
          "metadata": {},
          "output_type": "execute_result"
        }
      ],
      "source": [
        "#Create a random tensor with similar shape to an image tensor\n",
        "random_image_tensor = torch.rand(size=(224,224,3)) #height, width, colour channel (R,G,B)\n",
        "# can be torch.rand(size=(3, 224, 224)) => parameters in colour channel, height, width order\n",
        "random_image_tensor.shape, random_image_tensor.ndim"
      ]
    },
    {
      "cell_type": "markdown",
      "metadata": {
        "id": "GOeuwRs7_Ijy"
      },
      "source": [
        "###1.3 Creating Tensors with all zeros and ones"
      ]
    },
    {
      "cell_type": "code",
      "execution_count": 16,
      "metadata": {
        "colab": {
          "base_uri": "https://localhost:8080/"
        },
        "id": "aJ4aUkYt-VA7",
        "outputId": "3240b81a-d361-42ab-c872-30f449cea358"
      },
      "outputs": [
        {
          "data": {
            "text/plain": [
              "tensor([[0., 0., 0., 0.],\n",
              "        [0., 0., 0., 0.],\n",
              "        [0., 0., 0., 0.]])"
            ]
          },
          "execution_count": 16,
          "metadata": {},
          "output_type": "execute_result"
        }
      ],
      "source": [
        "##Tensors with zeros and ones\n",
        "zeros = torch.zeros(size=(3,4))\n",
        "zeros"
      ]
    },
    {
      "cell_type": "code",
      "execution_count": 17,
      "metadata": {
        "colab": {
          "base_uri": "https://localhost:8080/"
        },
        "id": "y51sDlIN_SfW",
        "outputId": "5dcce9af-2b21-46ed-9051-f975265fc218"
      },
      "outputs": [
        {
          "data": {
            "text/plain": [
              "tensor([[1., 1., 1., 1.],\n",
              "        [1., 1., 1., 1.],\n",
              "        [1., 1., 1., 1.]])"
            ]
          },
          "execution_count": 17,
          "metadata": {},
          "output_type": "execute_result"
        }
      ],
      "source": [
        "ones = torch.ones(3,4)\n",
        "ones"
      ]
    },
    {
      "cell_type": "code",
      "execution_count": 18,
      "metadata": {
        "colab": {
          "base_uri": "https://localhost:8080/"
        },
        "id": "tFbc5ulu_XBj",
        "outputId": "08f6f425-8e0f-494d-d4f5-80b46d3d9e1d"
      },
      "outputs": [
        {
          "data": {
            "text/plain": [
              "torch.float32"
            ]
          },
          "execution_count": 18,
          "metadata": {},
          "output_type": "execute_result"
        }
      ],
      "source": [
        "##reasons for floating points in the tensors\n",
        "#default setting for dtype of tensor is float32\n",
        "ones.dtype"
      ]
    },
    {
      "cell_type": "markdown",
      "metadata": {
        "id": "CQz7V0Urp00F"
      },
      "source": [
        "###Usage of Zero tensors\n",
        "######Zero tensor can be used to make the target tensor or specific column or row to be zero by multiplying corresponding zero tensor\n",
        "\n",
        "```\n",
        "zeros * random_tensor\n",
        "```\n",
        "\n"
      ]
    },
    {
      "cell_type": "markdown",
      "metadata": {
        "id": "rLTk9WXw_0uT"
      },
      "source": [
        "###1.4 Creating a range of tensors and tensors-like\n"
      ]
    },
    {
      "cell_type": "code",
      "execution_count": 19,
      "metadata": {
        "colab": {
          "base_uri": "https://localhost:8080/"
        },
        "id": "YX04mHnt_jd8",
        "outputId": "c9eaabf4-fb3e-45e6-a37f-25498522247a"
      },
      "outputs": [
        {
          "data": {
            "text/plain": [
              "tensor([ 1,  2,  3,  4,  5,  6,  7,  8,  9, 10])"
            ]
          },
          "execution_count": 19,
          "metadata": {},
          "output_type": "execute_result"
        }
      ],
      "source": [
        "#Use torch.arange(start, end, step)\n",
        "one_to_ten = torch.arange(1,11)\n",
        "one_to_ten"
      ]
    },
    {
      "cell_type": "code",
      "execution_count": 20,
      "metadata": {
        "colab": {
          "base_uri": "https://localhost:8080/"
        },
        "id": "a79F7IE5rTzn",
        "outputId": "a6b6536b-fa94-4b24-f997-51a8becf2d5d"
      },
      "outputs": [
        {
          "data": {
            "text/plain": [
              "tensor([0, 0, 0, 0, 0, 0, 0, 0, 0, 0])"
            ]
          },
          "execution_count": 20,
          "metadata": {},
          "output_type": "execute_result"
        }
      ],
      "source": [
        "#Creating tensors-like : create same size of tensor as input tensor\n",
        "ten_zeros = torch.zeros_like(input=one_to_ten)\n",
        "ten_zeros"
      ]
    },
    {
      "cell_type": "markdown",
      "metadata": {
        "id": "yC9ysnemsCpj"
      },
      "source": [
        "###1.5 Tensor Datatype\n",
        "####**Note:** Tensor datatype is one of the three big errors you will run into with Pytorch and Deep Learning:\n",
        "\n",
        "1. Tensors not right datatype\n",
        "2. Tensors not right shape\n",
        "3. Tensors not on right device"
      ]
    },
    {
      "cell_type": "code",
      "execution_count": 21,
      "metadata": {
        "colab": {
          "base_uri": "https://localhost:8080/"
        },
        "id": "Le2tuJTcsKE7",
        "outputId": "d238a79a-9213-44dc-ce9c-9be67250fa6a"
      },
      "outputs": [
        {
          "data": {
            "text/plain": [
              "torch.float32"
            ]
          },
          "execution_count": 21,
          "metadata": {},
          "output_type": "execute_result"
        }
      ],
      "source": [
        "#Float32 Tensor\n",
        "Float_32_tensor = torch.tensor([3., 6., 9.], dtype=None) #The default datatype of tensor is float32\n",
        "Float_32_tensor.dtype"
      ]
    },
    {
      "cell_type": "code",
      "execution_count": 22,
      "metadata": {
        "colab": {
          "base_uri": "https://localhost:8080/"
        },
        "id": "6YJMF5RIsjSm",
        "outputId": "dd1856f6-394a-4332-f67f-25b6f5a8fcab"
      },
      "outputs": [
        {
          "data": {
            "text/plain": [
              "torch.float16"
            ]
          },
          "execution_count": 22,
          "metadata": {},
          "output_type": "execute_result"
        }
      ],
      "source": [
        "Test_tensor = torch.tensor([3., 6., 9.], dtype=torch.float16)\n",
        "Test_tensor.dtype\n"
      ]
    },
    {
      "cell_type": "code",
      "execution_count": 23,
      "metadata": {
        "id": "ka2gDFf4syqL"
      },
      "outputs": [],
      "source": [
        "Test_tensor = torch.tensor([3.,6.,9.],\n",
        "                           dtype=torch.float32,#what datatype tensor is\n",
        "                           device=None,  #what device your tensor is on\n",
        "                           requires_grad=False) #whether to track gradients with tensors operation"
      ]
    },
    {
      "cell_type": "code",
      "execution_count": 24,
      "metadata": {
        "colab": {
          "base_uri": "https://localhost:8080/"
        },
        "id": "fJGdrgl3vDis",
        "outputId": "483538dc-7401-4c63-b231-13be423323aa"
      },
      "outputs": [
        {
          "data": {
            "text/plain": [
              "tensor([3., 6., 9.], dtype=torch.float16)"
            ]
          },
          "execution_count": 24,
          "metadata": {},
          "output_type": "execute_result"
        }
      ],
      "source": [
        "float_16_tensor = Test_tensor.type(torch.float16) #Test_nesor.type(torch.half)\n",
        "float_16_tensor\n"
      ]
    },
    {
      "cell_type": "code",
      "execution_count": 25,
      "metadata": {
        "colab": {
          "base_uri": "https://localhost:8080/"
        },
        "id": "3GalzSTRvd-r",
        "outputId": "0a45b83f-757a-445e-a89a-13f84895a9f2"
      },
      "outputs": [
        {
          "data": {
            "text/plain": [
              "tensor([ 9., 36., 81.])"
            ]
          },
          "execution_count": 25,
          "metadata": {},
          "output_type": "execute_result"
        }
      ],
      "source": [
        "float_16_tensor * Test_tensor"
      ]
    },
    {
      "cell_type": "code",
      "execution_count": 26,
      "metadata": {
        "id": "89K21Wsq8nzv"
      },
      "outputs": [],
      "source": [
        "#How to check tensor information #Tensor attribute\n",
        "#datatype = tensor.dtype\n",
        "#shape = tensor.shape, tensor.size() --> size() is a function\n",
        "#device = tensor.device"
      ]
    },
    {
      "cell_type": "markdown",
      "metadata": {
        "id": "Xl1xxQCZ980B"
      },
      "source": [
        "### 1.6 Manipulating tensor (Tensor Operations)"
      ]
    },
    {
      "cell_type": "code",
      "execution_count": 27,
      "metadata": {
        "id": "yjqCyVBp98ZM"
      },
      "outputs": [],
      "source": [
        "#Tensor Manipulation (Tensor Operations)\n",
        "#Addition\n",
        "#Subtraction\n",
        "#Multiplication (element-wise)\n",
        "#Division\n",
        "#Matrix multiplication (dot product)"
      ]
    },
    {
      "cell_type": "code",
      "execution_count": 28,
      "metadata": {
        "colab": {
          "base_uri": "https://localhost:8080/"
        },
        "id": "Vo2Rm3Az8_Nb",
        "outputId": "f0184592-14f3-4735-a4b7-299a38331b34"
      },
      "outputs": [
        {
          "data": {
            "text/plain": [
              "tensor([11, 12, 13])"
            ]
          },
          "execution_count": 28,
          "metadata": {},
          "output_type": "execute_result"
        }
      ],
      "source": [
        "#Addition\n",
        "tensor = torch.tensor([1,2,3])\n",
        "tensor + 10"
      ]
    },
    {
      "cell_type": "code",
      "execution_count": 29,
      "metadata": {
        "colab": {
          "base_uri": "https://localhost:8080/"
        },
        "id": "B2V2T1no-zgp",
        "outputId": "9e19d8ae-0a91-4261-e519-4546d7a77e3f"
      },
      "outputs": [
        {
          "data": {
            "text/plain": [
              "tensor([10, 20, 30])"
            ]
          },
          "execution_count": 29,
          "metadata": {},
          "output_type": "execute_result"
        }
      ],
      "source": [
        "#Multiplication\n",
        "tensor * 10"
      ]
    },
    {
      "cell_type": "code",
      "execution_count": 30,
      "metadata": {
        "colab": {
          "base_uri": "https://localhost:8080/"
        },
        "id": "iwUC4Wr0-55Z",
        "outputId": "2f4cb97a-65a1-4bef-d370-7946740d2503"
      },
      "outputs": [
        {
          "data": {
            "text/plain": [
              "tensor([-9, -8, -7])"
            ]
          },
          "execution_count": 30,
          "metadata": {},
          "output_type": "execute_result"
        }
      ],
      "source": [
        "#Subtraction\n",
        "tensor - 10"
      ]
    },
    {
      "cell_type": "code",
      "execution_count": 31,
      "metadata": {
        "colab": {
          "base_uri": "https://localhost:8080/"
        },
        "id": "7IkKk1gZ_NwT",
        "outputId": "13e1864f-ce81-43ae-b7e0-1821cfbf2088"
      },
      "outputs": [
        {
          "data": {
            "text/plain": [
              "(tensor([10, 20, 30]), tensor([11, 12, 13]), tensor([-9, -8, -7]))"
            ]
          },
          "execution_count": 31,
          "metadata": {},
          "output_type": "execute_result"
        }
      ],
      "source": [
        "#Tensor built-in function\n",
        "torch.mul(tensor, 10), torch.add(tensor, 10), torch.sub(tensor, 10)"
      ]
    },
    {
      "cell_type": "code",
      "execution_count": 32,
      "metadata": {
        "colab": {
          "base_uri": "https://localhost:8080/"
        },
        "id": "iGqMt2EZ_RVJ",
        "outputId": "b7c03e08-2d24-4ba9-bb59-7886608601cc"
      },
      "outputs": [
        {
          "data": {
            "text/plain": [
              "tensor(14)"
            ]
          },
          "execution_count": 32,
          "metadata": {},
          "output_type": "execute_result"
        }
      ],
      "source": [
        "#Tensor Matrix multiplication\n",
        "torch.matmul(tensor, tensor)\n",
        "#Or\n",
        "#tensor @ tensor"
      ]
    },
    {
      "cell_type": "markdown",
      "metadata": {
        "id": "p5YP0-hFGlfU"
      },
      "source": [
        "#####There are two main rules for matrix multiplication needs to be satisfied:\n",
        "1. The **inner dimension** must match\n",
        "2. The resulting matrix has the shape of **outer dimension**"
      ]
    },
    {
      "cell_type": "markdown",
      "metadata": {
        "id": "Nh4b2XEiHRX2"
      },
      "source": [
        "###One of the most common errors in deep learning: **Shape Error**\n",
        "#####To deal with the shape error, we can use ***Transpose**\n",
        "`Transpose = Tensor.T `\n"
      ]
    },
    {
      "cell_type": "code",
      "execution_count": 33,
      "metadata": {
        "colab": {
          "base_uri": "https://localhost:8080/"
        },
        "id": "1ovVXslpFMTC",
        "outputId": "b5e50cdb-ead0-47b3-e5a2-bb1710267d3c"
      },
      "outputs": [
        {
          "data": {
            "text/plain": [
              "(tensor([[0.2970, 0.8170],\n",
              "         [0.6409, 0.1015],\n",
              "         [0.0533, 0.5011]]),\n",
              " tensor([[0.2970, 0.6409, 0.0533],\n",
              "         [0.8170, 0.1015, 0.5011]]))"
            ]
          },
          "execution_count": 33,
          "metadata": {},
          "output_type": "execute_result"
        }
      ],
      "source": [
        "rand_tens = torch.rand(3,2)\n",
        "\n",
        "rand_tens, rand_tens.T\n"
      ]
    },
    {
      "cell_type": "markdown",
      "metadata": {
        "id": "JS69A8ZVjHxk"
      },
      "source": [
        "### 1.7 Tensor Aggregation\n",
        "####Finding min, max, mean, sum, etc"
      ]
    },
    {
      "cell_type": "code",
      "execution_count": 34,
      "metadata": {
        "colab": {
          "base_uri": "https://localhost:8080/"
        },
        "id": "z4_19UOcjQ2d",
        "outputId": "a51b444f-ce91-4d53-ac0f-b0da30d2ead0"
      },
      "outputs": [
        {
          "data": {
            "text/plain": [
              "(tensor([ 0, 10, 20, 30, 40, 50, 60, 70, 80, 90]),\n",
              " tensor(0),\n",
              " tensor(90),\n",
              " tensor(45.))"
            ]
          },
          "execution_count": 34,
          "metadata": {},
          "output_type": "execute_result"
        }
      ],
      "source": [
        "rand_tensor = torch.arange(0,100,10)\n",
        "rand_tensor, rand_tensor.min(), rand_tensor.max(), rand_tensor.type(torch.float32).mean()\n",
        "#Could be torch.min(rand_tensor), torch.max(rand_tensor), torch.mean(rand_tensor.type(torch.float32))"
      ]
    },
    {
      "cell_type": "code",
      "execution_count": 35,
      "metadata": {
        "colab": {
          "base_uri": "https://localhost:8080/"
        },
        "id": "DCY7vWc_j14d",
        "outputId": "d9ba0118-e8ff-4488-e04e-268d81281292"
      },
      "outputs": [
        {
          "data": {
            "text/plain": [
              "torch.int64"
            ]
          },
          "execution_count": 35,
          "metadata": {},
          "output_type": "execute_result"
        }
      ],
      "source": [
        "#Why change in dtype for mean() function?\n",
        "rand_tensor.dtype # torch.int64 == Long datatype\n",
        "# **NOTE**\n",
        "#Input dtype must be either a floating point or complex dtype for mean() function\n",
        "#Thus, we need to change the dtype of the tensor to use mean()\n",
        "#From the following result, we can also note that arange() function creates tensor with dtype of int64"
      ]
    },
    {
      "cell_type": "code",
      "execution_count": 36,
      "metadata": {
        "colab": {
          "base_uri": "https://localhost:8080/"
        },
        "id": "o63nUpfek_0R",
        "outputId": "cb75c363-fde2-453f-bd5e-a3fa04629b9b"
      },
      "outputs": [
        {
          "data": {
            "text/plain": [
              "(tensor(0), tensor(9))"
            ]
          },
          "execution_count": 36,
          "metadata": {},
          "output_type": "execute_result"
        }
      ],
      "source": [
        "#Finding index of the min, max, mean value in the tensor\n",
        "rand_tensor.argmin(), rand_tensor.argmax() # == torch.argmin(rand_tensor), torch.argmax(rand_tensor)\n"
      ]
    },
    {
      "cell_type": "code",
      "execution_count": 37,
      "metadata": {
        "colab": {
          "base_uri": "https://localhost:8080/"
        },
        "id": "HDuIQBYKmQFC",
        "outputId": "83d16f35-1b03-49ca-ddec-ad88ba95f3c9"
      },
      "outputs": [
        {
          "data": {
            "text/plain": [
              "(tensor(31), tensor(52))"
            ]
          },
          "execution_count": 37,
          "metadata": {},
          "output_type": "execute_result"
        }
      ],
      "source": [
        "tensor = torch.rand(10,10)\n",
        "tensor.argmax(), tensor.argmin()"
      ]
    },
    {
      "cell_type": "markdown",
      "metadata": {
        "id": "3zSiLNFMnbPP"
      },
      "source": [
        "####Reshaping, stacking, squeezing and unsqueezing tensors\n",
        "* Reshaping: reshapes a tensor to a defined shape\n",
        "* View: return a view of an input tensor of certain shape but keep the same memory as the original tensor\n",
        "* Stacking: combine multiple tensors on top of each other (vstack-vertical stack, hstack-horizontal stack)\n",
        "* Squeeze: removes all `1` dimensions from a tensor\n",
        "* Unsqueeze: add a `1` dimension to a target tensor\n",
        "* Permute: Return a view of the input with dimensions permuted (swapped) in a certain way\n"
      ]
    },
    {
      "cell_type": "code",
      "execution_count": 38,
      "metadata": {
        "colab": {
          "base_uri": "https://localhost:8080/"
        },
        "id": "vIBGjOCbnZXa",
        "outputId": "2cf57007-e50f-41ae-c880-b2f68ef827d9"
      },
      "outputs": [
        {
          "data": {
            "text/plain": [
              "(tensor([ 1.,  2.,  3.,  4.,  5.,  6.,  7.,  8.,  9., 10.]), torch.Size([10]))"
            ]
          },
          "execution_count": 38,
          "metadata": {},
          "output_type": "execute_result"
        }
      ],
      "source": [
        "# example tensor\n",
        "x = torch.arange(1., 11.)\n",
        "x, x.shape"
      ]
    },
    {
      "cell_type": "code",
      "execution_count": 39,
      "metadata": {
        "colab": {
          "base_uri": "https://localhost:8080/"
        },
        "id": "Dau5Ha_6qcMf",
        "outputId": "ee91ecba-45bf-45f2-9d56-133957b56617"
      },
      "outputs": [
        {
          "data": {
            "text/plain": [
              "(tensor([[ 1.,  2.,  3.,  4.,  5.],\n",
              "         [ 6.,  7.,  8.,  9., 10.]]),\n",
              " tensor([[ 1.,  2.],\n",
              "         [ 3.,  4.],\n",
              "         [ 5.,  6.],\n",
              "         [ 7.,  8.],\n",
              "         [ 9., 10.]]))"
            ]
          },
          "execution_count": 39,
          "metadata": {},
          "output_type": "execute_result"
        }
      ],
      "source": [
        "#Reshape the tensor\n",
        "#Add an extra dimension\n",
        "x.reshape(2,5), x.reshape(5,2)"
      ]
    },
    {
      "cell_type": "code",
      "execution_count": 40,
      "metadata": {
        "colab": {
          "base_uri": "https://localhost:8080/"
        },
        "id": "e1pce2XsqmIZ",
        "outputId": "fd8a1df3-1473-43ff-a07c-17eff5e0216b"
      },
      "outputs": [
        {
          "data": {
            "text/plain": [
              "(torch.Size([2, 5]), torch.Size([5, 2]))"
            ]
          },
          "execution_count": 40,
          "metadata": {},
          "output_type": "execute_result"
        }
      ],
      "source": [
        "x.reshape(2,5).shape, x.reshape(5,2).shape"
      ]
    },
    {
      "cell_type": "code",
      "execution_count": 41,
      "metadata": {
        "colab": {
          "base_uri": "https://localhost:8080/"
        },
        "id": "N47GF9GXqsV2",
        "outputId": "4feacae2-df72-4ffa-e763-f047376dde55"
      },
      "outputs": [
        {
          "data": {
            "text/plain": [
              "(tensor([[ 5.,  2.,  3.,  4.,  5.],\n",
              "         [ 5.,  7.,  8.,  9., 10.]]),\n",
              " tensor([ 5.,  2.,  3.,  4.,  5.,  5.,  7.,  8.,  9., 10.]))"
            ]
          },
          "execution_count": 41,
          "metadata": {},
          "output_type": "execute_result"
        }
      ],
      "source": [
        "# Change the View **Note that a view of a tensor share the same memory as the origianl tensor\n",
        "z = x.view(2,5)\n",
        "z[:,0] = 5 #Here we adjusted tensor z\n",
        "z, x #But checking z and x, both same element has been changed since view()"
      ]
    },
    {
      "cell_type": "code",
      "execution_count": 42,
      "metadata": {
        "colab": {
          "base_uri": "https://localhost:8080/"
        },
        "id": "I9E07sRxsC1D",
        "outputId": "7dbc8c30-0c39-4032-97ee-1cb1b11b3834"
      },
      "outputs": [
        {
          "data": {
            "text/plain": [
              "tensor([[ 5.,  2.,  3.,  4.,  5.,  5.,  7.,  8.,  9., 10.],\n",
              "        [ 5.,  2.,  3.,  4.,  5.,  5.,  7.,  8.,  9., 10.],\n",
              "        [ 5.,  2.,  3.,  4.,  5.,  5.,  7.,  8.,  9., 10.],\n",
              "        [ 5.,  2.,  3.,  4.,  5.,  5.,  7.,  8.,  9., 10.]])"
            ]
          },
          "execution_count": 42,
          "metadata": {},
          "output_type": "execute_result"
        }
      ],
      "source": [
        "# Stack tensors on top of each other\n",
        "\n",
        "stacked = torch.stack([x,x,x,x], dim=0)\n",
        "stacked\n"
      ]
    },
    {
      "cell_type": "code",
      "execution_count": null,
      "metadata": {},
      "outputs": [],
      "source": [
        "#Squeeze and Unsqueeze\n"
      ]
    }
  ],
  "metadata": {
    "accelerator": "GPU",
    "colab": {
      "authorship_tag": "ABX9TyN5JzrwclP9X3evcjekrEu9",
      "gpuType": "T4",
      "include_colab_link": true,
      "provenance": []
    },
    "kernelspec": {
      "display_name": "Python 3",
      "name": "python3"
    },
    "language_info": {
      "name": "python"
    }
  },
  "nbformat": 4,
  "nbformat_minor": 0
}
