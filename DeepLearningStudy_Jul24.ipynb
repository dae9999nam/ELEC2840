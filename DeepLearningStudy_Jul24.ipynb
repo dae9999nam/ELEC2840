{
  "nbformat": 4,
  "nbformat_minor": 0,
  "metadata": {
    "colab": {
      "provenance": [],
      "gpuType": "T4",
      "authorship_tag": "ABX9TyN5JzrwclP9X3evcjekrEu9",
      "include_colab_link": true
    },
    "kernelspec": {
      "name": "python3",
      "display_name": "Python 3"
    },
    "language_info": {
      "name": "python"
    },
    "accelerator": "GPU"
  },
  "cells": [
    {
      "cell_type": "markdown",
      "metadata": {
        "id": "view-in-github",
        "colab_type": "text"
      },
      "source": [
        "<a href=\"https://colab.research.google.com/github/dae9999nam/SL_Blog/blob/main/DeepLearningStudy_Jul24.ipynb\" target=\"_parent\"><img src=\"https://colab.research.google.com/assets/colab-badge.svg\" alt=\"Open In Colab\"/></a>"
      ]
    },
    {
      "cell_type": "markdown",
      "source": [
        "**Pytorch Self Learning Study**\n",
        "###Reference: https://pytorch.org/docs/stable/\n",
        "###Youtube source: https://www.youtube.com/watch?v=V_xro1bcAuA&t=2598s"
      ],
      "metadata": {
        "id": "lnfPyDbqxMdF"
      }
    },
    {
      "cell_type": "markdown",
      "source": [
        "Start Date: 2024.07.24"
      ],
      "metadata": {
        "id": "3FhS0TTxx8su"
      }
    },
    {
      "cell_type": "markdown",
      "source": [
        "Notebook Setting: T4 GPU"
      ],
      "metadata": {
        "id": "FQ44S_HWx--L"
      }
    },
    {
      "cell_type": "code",
      "source": [
        "import torch\n",
        "import numpy as np\n",
        "import pandas as pd\n",
        "import matplotlib.pyplot as plt\n",
        "print(torch.__version__)"
      ],
      "metadata": {
        "colab": {
          "base_uri": "https://localhost:8080/"
        },
        "id": "mlhegGQXxWiY",
        "outputId": "90e0e16c-bd2b-43d2-c3ba-198280b5255e"
      },
      "execution_count": 1,
      "outputs": [
        {
          "output_type": "stream",
          "name": "stdout",
          "text": [
            "2.3.1+cu121\n"
          ]
        }
      ]
    },
    {
      "cell_type": "markdown",
      "source": [],
      "metadata": {
        "id": "0j9rw1Sh0-aH"
      }
    },
    {
      "cell_type": "markdown",
      "source": [
        "torch version: 2.3.1 cubaversion: 1.2.1"
      ],
      "metadata": {
        "id": "pMKxmQG30WvL"
      }
    },
    {
      "cell_type": "markdown",
      "source": [],
      "metadata": {
        "id": "HINYzsRj2Ahg"
      }
    },
    {
      "cell_type": "markdown",
      "source": [
        "##1. Introduction to Tensors\n"
      ],
      "metadata": {
        "id": "XdKHrCc51Twt"
      }
    },
    {
      "cell_type": "markdown",
      "source": [
        "###1-1.Creating Tensors and observe the characters"
      ],
      "metadata": {
        "id": "PbbvCIda--U0"
      }
    },
    {
      "cell_type": "code",
      "source": [
        "#Scalars\n",
        "scalar = torch.tensor(7)\n",
        "scalar"
      ],
      "metadata": {
        "colab": {
          "base_uri": "https://localhost:8080/"
        },
        "id": "5QnvXxqi0390",
        "outputId": "b857bba7-8fe6-4acb-8168-ea5fce726bc4"
      },
      "execution_count": 2,
      "outputs": [
        {
          "output_type": "execute_result",
          "data": {
            "text/plain": [
              "tensor(7)"
            ]
          },
          "metadata": {},
          "execution_count": 2
        }
      ]
    },
    {
      "cell_type": "code",
      "source": [
        "scalar.ndim"
      ],
      "metadata": {
        "colab": {
          "base_uri": "https://localhost:8080/"
        },
        "id": "cSSaSXm74h01",
        "outputId": "7a36929c-6711-4553-c4ed-463441ae88ac"
      },
      "execution_count": 3,
      "outputs": [
        {
          "output_type": "execute_result",
          "data": {
            "text/plain": [
              "0"
            ]
          },
          "metadata": {},
          "execution_count": 3
        }
      ]
    },
    {
      "cell_type": "code",
      "source": [
        "scalar.item()"
      ],
      "metadata": {
        "colab": {
          "base_uri": "https://localhost:8080/"
        },
        "id": "jXKteoeB4moI",
        "outputId": "fec0a966-c941-4a16-ac6e-e31996631508"
      },
      "execution_count": 4,
      "outputs": [
        {
          "output_type": "execute_result",
          "data": {
            "text/plain": [
              "7"
            ]
          },
          "metadata": {},
          "execution_count": 4
        }
      ]
    },
    {
      "cell_type": "code",
      "source": [
        "#vectors\n",
        "vectors = torch.tensor([1,1])\n",
        "vectors"
      ],
      "metadata": {
        "colab": {
          "base_uri": "https://localhost:8080/"
        },
        "id": "g-rkYXoU4r7e",
        "outputId": "15d57fed-95c1-4920-95c8-1b201b2879ad"
      },
      "execution_count": 5,
      "outputs": [
        {
          "output_type": "execute_result",
          "data": {
            "text/plain": [
              "tensor([1, 1])"
            ]
          },
          "metadata": {},
          "execution_count": 5
        }
      ]
    },
    {
      "cell_type": "code",
      "source": [
        "vectors.ndim"
      ],
      "metadata": {
        "colab": {
          "base_uri": "https://localhost:8080/"
        },
        "id": "nS_7yQBu49KH",
        "outputId": "3e766014-f1a7-4fa9-e055-4fa10cf9e0f1"
      },
      "execution_count": 6,
      "outputs": [
        {
          "output_type": "execute_result",
          "data": {
            "text/plain": [
              "1"
            ]
          },
          "metadata": {},
          "execution_count": 6
        }
      ]
    },
    {
      "cell_type": "code",
      "source": [
        "vectors.shape"
      ],
      "metadata": {
        "colab": {
          "base_uri": "https://localhost:8080/"
        },
        "id": "J93RJ_mn5FnY",
        "outputId": "bbc391b0-febd-4624-81c9-fbf95e593865"
      },
      "execution_count": 7,
      "outputs": [
        {
          "output_type": "execute_result",
          "data": {
            "text/plain": [
              "torch.Size([2])"
            ]
          },
          "metadata": {},
          "execution_count": 7
        }
      ]
    },
    {
      "cell_type": "code",
      "source": [
        "#MATRIX\n",
        "MATRIX = torch.tensor([[1,2],[3,4]])\n",
        "MATRIX"
      ],
      "metadata": {
        "colab": {
          "base_uri": "https://localhost:8080/"
        },
        "id": "x_j8C1Qa5JHX",
        "outputId": "da85af1d-0769-4c51-950c-b2c02f801625"
      },
      "execution_count": 8,
      "outputs": [
        {
          "output_type": "execute_result",
          "data": {
            "text/plain": [
              "tensor([[1, 2],\n",
              "        [3, 4]])"
            ]
          },
          "metadata": {},
          "execution_count": 8
        }
      ]
    },
    {
      "cell_type": "code",
      "source": [
        "MATRIX.ndim"
      ],
      "metadata": {
        "colab": {
          "base_uri": "https://localhost:8080/"
        },
        "id": "estA-Kxq5PMt",
        "outputId": "4e6903cc-d852-4ddf-abc5-9ce8195f914f"
      },
      "execution_count": 9,
      "outputs": [
        {
          "output_type": "execute_result",
          "data": {
            "text/plain": [
              "2"
            ]
          },
          "metadata": {},
          "execution_count": 9
        }
      ]
    },
    {
      "cell_type": "code",
      "source": [
        "MATRIX.shape"
      ],
      "metadata": {
        "colab": {
          "base_uri": "https://localhost:8080/"
        },
        "id": "axFnnOAF5R0f",
        "outputId": "a9f44f90-b6ec-4b36-d76c-c2e8bcadfc57"
      },
      "execution_count": 10,
      "outputs": [
        {
          "output_type": "execute_result",
          "data": {
            "text/plain": [
              "torch.Size([2, 2])"
            ]
          },
          "metadata": {},
          "execution_count": 10
        }
      ]
    },
    {
      "cell_type": "code",
      "source": [
        "#TENSORS\n",
        "TENSOR = torch.tensor([[[1,2,3],\n",
        "                        [4,5,6],\n",
        "                        [7,8,9]]])\n",
        "TENSOR"
      ],
      "metadata": {
        "colab": {
          "base_uri": "https://localhost:8080/"
        },
        "id": "EyuJlLti5WFE",
        "outputId": "ad895b3b-bb0b-46b4-afe1-a933e75603fb"
      },
      "execution_count": 11,
      "outputs": [
        {
          "output_type": "execute_result",
          "data": {
            "text/plain": [
              "tensor([[[1, 2, 3],\n",
              "         [4, 5, 6],\n",
              "         [7, 8, 9]]])"
            ]
          },
          "metadata": {},
          "execution_count": 11
        }
      ]
    },
    {
      "cell_type": "code",
      "source": [
        "TENSOR.ndim"
      ],
      "metadata": {
        "colab": {
          "base_uri": "https://localhost:8080/"
        },
        "id": "uXXRe4Vi5qS-",
        "outputId": "9868d841-57bc-42c8-eb6e-d8d9d9ead417"
      },
      "execution_count": 12,
      "outputs": [
        {
          "output_type": "execute_result",
          "data": {
            "text/plain": [
              "3"
            ]
          },
          "metadata": {},
          "execution_count": 12
        }
      ]
    },
    {
      "cell_type": "code",
      "source": [
        "TENSOR.shape"
      ],
      "metadata": {
        "colab": {
          "base_uri": "https://localhost:8080/"
        },
        "id": "vMIzWAtw5s60",
        "outputId": "d75aebd8-9a52-4c7f-a15e-e303bb20b983"
      },
      "execution_count": 13,
      "outputs": [
        {
          "output_type": "execute_result",
          "data": {
            "text/plain": [
              "torch.Size([1, 3, 3])"
            ]
          },
          "metadata": {},
          "execution_count": 13
        }
      ]
    },
    {
      "cell_type": "markdown",
      "source": [
        "#####Variable name for scalar and vector are represented by lower case\n",
        "#####Variable name for MATRIX and TENSOR are represented by upper case"
      ],
      "metadata": {
        "id": "1izA3D3a6JGi"
      }
    },
    {
      "cell_type": "markdown",
      "source": [
        "###1.2 Creating Random Tensors\n",
        "####Why random tensor\n",
        "#####Random tensors are important because the way neural networks learn is that they start with tensors full of random numbers and then adjust those random numbers to better represent the data.\n",
        "`Start with random numbers -> look at data -> update random numbers -> look at data -> update random numbers`"
      ],
      "metadata": {
        "id": "g1iWIfc45609"
      }
    },
    {
      "cell_type": "code",
      "source": [
        "#Create random tensors\n",
        "random_tensor = torch.rand(3,4) # == torch.rand(size=(3,4))\n",
        "random_tensor"
      ],
      "metadata": {
        "colab": {
          "base_uri": "https://localhost:8080/"
        },
        "id": "h9DJfFHG8XTU",
        "outputId": "703e0d77-aad0-42bc-a6ee-3cc9ac117b50"
      },
      "execution_count": 14,
      "outputs": [
        {
          "output_type": "execute_result",
          "data": {
            "text/plain": [
              "tensor([[0.9336, 0.4521, 0.6500, 0.9257],\n",
              "        [0.6043, 0.0626, 0.4825, 0.8052],\n",
              "        [0.7144, 0.4887, 0.6587, 0.2789]])"
            ]
          },
          "metadata": {},
          "execution_count": 14
        }
      ]
    },
    {
      "cell_type": "code",
      "source": [
        "#Create a random tensor with similar shape to an image tensor\n",
        "random_image_tensor = torch.rand(size=(224,224,3)) #height, width, colour channel (R,G,B)\n",
        "# can be torch.rand(size=(3, 224, 224)) => parameters in colour channel, height, width order\n",
        "random_image_tensor.shape, random_image_tensor.ndim"
      ],
      "metadata": {
        "colab": {
          "base_uri": "https://localhost:8080/"
        },
        "id": "9DGtbhv989ME",
        "outputId": "a687d5c0-8718-4d96-b757-7c381370e5da"
      },
      "execution_count": 15,
      "outputs": [
        {
          "output_type": "execute_result",
          "data": {
            "text/plain": [
              "(torch.Size([224, 224, 3]), 3)"
            ]
          },
          "metadata": {},
          "execution_count": 15
        }
      ]
    },
    {
      "cell_type": "markdown",
      "source": [
        "###1.3 Creating Tensors with all zeros and ones"
      ],
      "metadata": {
        "id": "GOeuwRs7_Ijy"
      }
    },
    {
      "cell_type": "code",
      "source": [
        "##Tensors with zeros and ones\n",
        "zeros = torch.zeros(size=(3,4))\n",
        "zeros"
      ],
      "metadata": {
        "colab": {
          "base_uri": "https://localhost:8080/"
        },
        "id": "aJ4aUkYt-VA7",
        "outputId": "3240b81a-d361-42ab-c872-30f449cea358"
      },
      "execution_count": 16,
      "outputs": [
        {
          "output_type": "execute_result",
          "data": {
            "text/plain": [
              "tensor([[0., 0., 0., 0.],\n",
              "        [0., 0., 0., 0.],\n",
              "        [0., 0., 0., 0.]])"
            ]
          },
          "metadata": {},
          "execution_count": 16
        }
      ]
    },
    {
      "cell_type": "code",
      "source": [
        "ones = torch.ones(3,4)\n",
        "ones"
      ],
      "metadata": {
        "colab": {
          "base_uri": "https://localhost:8080/"
        },
        "id": "y51sDlIN_SfW",
        "outputId": "5dcce9af-2b21-46ed-9051-f975265fc218"
      },
      "execution_count": 17,
      "outputs": [
        {
          "output_type": "execute_result",
          "data": {
            "text/plain": [
              "tensor([[1., 1., 1., 1.],\n",
              "        [1., 1., 1., 1.],\n",
              "        [1., 1., 1., 1.]])"
            ]
          },
          "metadata": {},
          "execution_count": 17
        }
      ]
    },
    {
      "cell_type": "code",
      "source": [
        "##reasons for floating points in the tensors\n",
        "#default setting for dtype of tensor is float32\n",
        "ones.dtype"
      ],
      "metadata": {
        "colab": {
          "base_uri": "https://localhost:8080/"
        },
        "id": "tFbc5ulu_XBj",
        "outputId": "08f6f425-8e0f-494d-d4f5-80b46d3d9e1d"
      },
      "execution_count": 18,
      "outputs": [
        {
          "output_type": "execute_result",
          "data": {
            "text/plain": [
              "torch.float32"
            ]
          },
          "metadata": {},
          "execution_count": 18
        }
      ]
    },
    {
      "cell_type": "markdown",
      "source": [
        "###Usage of Zero tensors\n",
        "######Zero tensor can be used to make the target tensor or specific column or row to be zero by multiplying corresponding zero tensor\n",
        "\n",
        "```\n",
        "zeros * random_tensor\n",
        "```\n",
        "\n"
      ],
      "metadata": {
        "id": "CQz7V0Urp00F"
      }
    },
    {
      "cell_type": "markdown",
      "source": [
        "###1.4 Creating a range of tensors and tensors-like\n"
      ],
      "metadata": {
        "id": "rLTk9WXw_0uT"
      }
    },
    {
      "cell_type": "code",
      "source": [
        "#Use torch.arange(start, end, step)\n",
        "one_to_ten = torch.arange(1,11)\n",
        "one_to_ten"
      ],
      "metadata": {
        "id": "YX04mHnt_jd8",
        "colab": {
          "base_uri": "https://localhost:8080/"
        },
        "outputId": "c9eaabf4-fb3e-45e6-a37f-25498522247a"
      },
      "execution_count": 19,
      "outputs": [
        {
          "output_type": "execute_result",
          "data": {
            "text/plain": [
              "tensor([ 1,  2,  3,  4,  5,  6,  7,  8,  9, 10])"
            ]
          },
          "metadata": {},
          "execution_count": 19
        }
      ]
    },
    {
      "cell_type": "code",
      "source": [
        "#Creating tensors-like : create same size of tensor as input tensor\n",
        "ten_zeros = torch.zeros_like(input=one_to_ten)\n",
        "ten_zeros"
      ],
      "metadata": {
        "colab": {
          "base_uri": "https://localhost:8080/"
        },
        "id": "a79F7IE5rTzn",
        "outputId": "a6b6536b-fa94-4b24-f997-51a8becf2d5d"
      },
      "execution_count": 20,
      "outputs": [
        {
          "output_type": "execute_result",
          "data": {
            "text/plain": [
              "tensor([0, 0, 0, 0, 0, 0, 0, 0, 0, 0])"
            ]
          },
          "metadata": {},
          "execution_count": 20
        }
      ]
    },
    {
      "cell_type": "markdown",
      "source": [
        "###1.5 Tensor Datatype\n",
        "####**Note:** Tensor datatype is one of the three big errors you will run into with Pytorch and Deep Learning:\n",
        "\n",
        "1. Tensors not right datatype\n",
        "2. Tensors not right shape\n",
        "3. Tensors not on right device"
      ],
      "metadata": {
        "id": "yC9ysnemsCpj"
      }
    },
    {
      "cell_type": "code",
      "source": [
        "#Float32 Tensor\n",
        "Float_32_tensor = torch.tensor([3., 6., 9.], dtype=None) #The default datatype of tensor is float32\n",
        "Float_32_tensor.dtype"
      ],
      "metadata": {
        "colab": {
          "base_uri": "https://localhost:8080/"
        },
        "id": "Le2tuJTcsKE7",
        "outputId": "d238a79a-9213-44dc-ce9c-9be67250fa6a"
      },
      "execution_count": 21,
      "outputs": [
        {
          "output_type": "execute_result",
          "data": {
            "text/plain": [
              "torch.float32"
            ]
          },
          "metadata": {},
          "execution_count": 21
        }
      ]
    },
    {
      "cell_type": "code",
      "source": [
        "Test_tensor = torch.tensor([3., 6., 9.], dtype=torch.float16)\n",
        "Test_tensor.dtype\n"
      ],
      "metadata": {
        "colab": {
          "base_uri": "https://localhost:8080/"
        },
        "id": "6YJMF5RIsjSm",
        "outputId": "dd1856f6-394a-4332-f67f-25b6f5a8fcab"
      },
      "execution_count": 22,
      "outputs": [
        {
          "output_type": "execute_result",
          "data": {
            "text/plain": [
              "torch.float16"
            ]
          },
          "metadata": {},
          "execution_count": 22
        }
      ]
    },
    {
      "cell_type": "code",
      "source": [
        "Test_tensor = torch.tensor([3.,6.,9.],\n",
        "                           dtype=torch.float32,#what datatype tensor is\n",
        "                           device=None,  #what device your tensor is on\n",
        "                           requires_grad=False) #whether to track gradients with tensors operation"
      ],
      "metadata": {
        "id": "ka2gDFf4syqL"
      },
      "execution_count": 23,
      "outputs": []
    },
    {
      "cell_type": "code",
      "source": [
        "float_16_tensor = Test_tensor.type(torch.float16) #Test_nesor.type(torch.half)\n",
        "float_16_tensor\n"
      ],
      "metadata": {
        "colab": {
          "base_uri": "https://localhost:8080/"
        },
        "id": "fJGdrgl3vDis",
        "outputId": "483538dc-7401-4c63-b231-13be423323aa"
      },
      "execution_count": 24,
      "outputs": [
        {
          "output_type": "execute_result",
          "data": {
            "text/plain": [
              "tensor([3., 6., 9.], dtype=torch.float16)"
            ]
          },
          "metadata": {},
          "execution_count": 24
        }
      ]
    },
    {
      "cell_type": "code",
      "source": [
        "float_16_tensor * Test_tensor"
      ],
      "metadata": {
        "colab": {
          "base_uri": "https://localhost:8080/"
        },
        "id": "3GalzSTRvd-r",
        "outputId": "0a45b83f-757a-445e-a89a-13f84895a9f2"
      },
      "execution_count": 25,
      "outputs": [
        {
          "output_type": "execute_result",
          "data": {
            "text/plain": [
              "tensor([ 9., 36., 81.])"
            ]
          },
          "metadata": {},
          "execution_count": 25
        }
      ]
    },
    {
      "cell_type": "code",
      "source": [
        "#How to check tensor information #Tensor attribute\n",
        "#datatype = tensor.dtype\n",
        "#shape = tensor.shape, tensor.size() --> size() is a function\n",
        "#device = tensor.device"
      ],
      "metadata": {
        "id": "89K21Wsq8nzv"
      },
      "execution_count": 26,
      "outputs": []
    },
    {
      "cell_type": "markdown",
      "source": [
        "### 1.6 Manipulating tensor (Tensor Operations)"
      ],
      "metadata": {
        "id": "Xl1xxQCZ980B"
      }
    },
    {
      "cell_type": "code",
      "source": [
        "#Tensor Manipulation (Tensor Operations)\n",
        "#Addition\n",
        "#Subtraction\n",
        "#Multiplication (element-wise)\n",
        "#Division\n",
        "#Matrix multiplication (dot product)"
      ],
      "metadata": {
        "id": "yjqCyVBp98ZM"
      },
      "execution_count": 27,
      "outputs": []
    },
    {
      "cell_type": "code",
      "source": [
        "#Addition\n",
        "tensor = torch.tensor([1,2,3])\n",
        "tensor + 10"
      ],
      "metadata": {
        "colab": {
          "base_uri": "https://localhost:8080/"
        },
        "id": "Vo2Rm3Az8_Nb",
        "outputId": "f0184592-14f3-4735-a4b7-299a38331b34"
      },
      "execution_count": 28,
      "outputs": [
        {
          "output_type": "execute_result",
          "data": {
            "text/plain": [
              "tensor([11, 12, 13])"
            ]
          },
          "metadata": {},
          "execution_count": 28
        }
      ]
    },
    {
      "cell_type": "code",
      "source": [
        "#Multiplication\n",
        "tensor * 10"
      ],
      "metadata": {
        "colab": {
          "base_uri": "https://localhost:8080/"
        },
        "id": "B2V2T1no-zgp",
        "outputId": "9e19d8ae-0a91-4261-e519-4546d7a77e3f"
      },
      "execution_count": 29,
      "outputs": [
        {
          "output_type": "execute_result",
          "data": {
            "text/plain": [
              "tensor([10, 20, 30])"
            ]
          },
          "metadata": {},
          "execution_count": 29
        }
      ]
    },
    {
      "cell_type": "code",
      "source": [
        "#Subtraction\n",
        "tensor - 10"
      ],
      "metadata": {
        "colab": {
          "base_uri": "https://localhost:8080/"
        },
        "id": "iwUC4Wr0-55Z",
        "outputId": "2f4cb97a-65a1-4bef-d370-7946740d2503"
      },
      "execution_count": 30,
      "outputs": [
        {
          "output_type": "execute_result",
          "data": {
            "text/plain": [
              "tensor([-9, -8, -7])"
            ]
          },
          "metadata": {},
          "execution_count": 30
        }
      ]
    },
    {
      "cell_type": "code",
      "source": [
        "#Tensor built-in function\n",
        "torch.mul(tensor, 10), torch.add(tensor, 10), torch.sub(tensor, 10)"
      ],
      "metadata": {
        "colab": {
          "base_uri": "https://localhost:8080/"
        },
        "id": "7IkKk1gZ_NwT",
        "outputId": "13e1864f-ce81-43ae-b7e0-1821cfbf2088"
      },
      "execution_count": 31,
      "outputs": [
        {
          "output_type": "execute_result",
          "data": {
            "text/plain": [
              "(tensor([10, 20, 30]), tensor([11, 12, 13]), tensor([-9, -8, -7]))"
            ]
          },
          "metadata": {},
          "execution_count": 31
        }
      ]
    },
    {
      "cell_type": "code",
      "source": [
        "#Tensor Matrix multiplication\n",
        "torch.matmul(tensor, tensor)\n",
        "#Or\n",
        "#tensor @ tensor"
      ],
      "metadata": {
        "colab": {
          "base_uri": "https://localhost:8080/"
        },
        "id": "iGqMt2EZ_RVJ",
        "outputId": "b7c03e08-2d24-4ba9-bb59-7886608601cc"
      },
      "execution_count": 32,
      "outputs": [
        {
          "output_type": "execute_result",
          "data": {
            "text/plain": [
              "tensor(14)"
            ]
          },
          "metadata": {},
          "execution_count": 32
        }
      ]
    },
    {
      "cell_type": "markdown",
      "source": [
        "#####There are two main rules for matrix multiplication needs to be satisfied:\n",
        "1. The **inner dimension** must match\n",
        "2. The resulting matrix has the shape of **outer dimension**"
      ],
      "metadata": {
        "id": "p5YP0-hFGlfU"
      }
    },
    {
      "cell_type": "markdown",
      "source": [
        "###One of the most common errors in deep learning: **Shape Error**\n",
        "#####To deal with the shape error, we can use ***Transpose**\n",
        "`Transpose = Tensor.T `\n"
      ],
      "metadata": {
        "id": "Nh4b2XEiHRX2"
      }
    },
    {
      "cell_type": "code",
      "source": [
        "rand_tens = torch.rand(3,2)\n",
        "\n",
        "rand_tens, rand_tens.T\n"
      ],
      "metadata": {
        "id": "1ovVXslpFMTC",
        "colab": {
          "base_uri": "https://localhost:8080/"
        },
        "outputId": "b5e50cdb-ead0-47b3-e5a2-bb1710267d3c"
      },
      "execution_count": 33,
      "outputs": [
        {
          "output_type": "execute_result",
          "data": {
            "text/plain": [
              "(tensor([[0.2970, 0.8170],\n",
              "         [0.6409, 0.1015],\n",
              "         [0.0533, 0.5011]]),\n",
              " tensor([[0.2970, 0.6409, 0.0533],\n",
              "         [0.8170, 0.1015, 0.5011]]))"
            ]
          },
          "metadata": {},
          "execution_count": 33
        }
      ]
    },
    {
      "cell_type": "markdown",
      "source": [
        "### 1.7 Tensor Aggregation\n",
        "####Finding min, max, mean, sum, etc"
      ],
      "metadata": {
        "id": "JS69A8ZVjHxk"
      }
    },
    {
      "cell_type": "code",
      "source": [
        "rand_tensor = torch.arange(0,100,10)\n",
        "rand_tensor, rand_tensor.min(), rand_tensor.max(), rand_tensor.type(torch.float32).mean()\n",
        "#Could be torch.min(rand_tensor), torch.max(rand_tensor), torch.mean(rand_tensor.type(torch.float32))"
      ],
      "metadata": {
        "colab": {
          "base_uri": "https://localhost:8080/"
        },
        "id": "z4_19UOcjQ2d",
        "outputId": "a51b444f-ce91-4d53-ac0f-b0da30d2ead0"
      },
      "execution_count": 34,
      "outputs": [
        {
          "output_type": "execute_result",
          "data": {
            "text/plain": [
              "(tensor([ 0, 10, 20, 30, 40, 50, 60, 70, 80, 90]),\n",
              " tensor(0),\n",
              " tensor(90),\n",
              " tensor(45.))"
            ]
          },
          "metadata": {},
          "execution_count": 34
        }
      ]
    },
    {
      "cell_type": "code",
      "source": [
        "#Why change in dtype for mean() function?\n",
        "rand_tensor.dtype # torch.int64 == Long datatype\n",
        "# **NOTE**\n",
        "#Input dtype must be either a floating point or complex dtype for mean() function\n",
        "#Thus, we need to change the dtype of the tensor to use mean()\n",
        "#From the following result, we can also note that arange() function creates tensor with dtype of int64"
      ],
      "metadata": {
        "colab": {
          "base_uri": "https://localhost:8080/"
        },
        "id": "DCY7vWc_j14d",
        "outputId": "d9ba0118-e8ff-4488-e04e-268d81281292"
      },
      "execution_count": 35,
      "outputs": [
        {
          "output_type": "execute_result",
          "data": {
            "text/plain": [
              "torch.int64"
            ]
          },
          "metadata": {},
          "execution_count": 35
        }
      ]
    },
    {
      "cell_type": "code",
      "source": [
        "#Finding index of the min, max, mean value in the tensor\n",
        "rand_tensor.argmin(), rand_tensor.argmax() # == torch.argmin(rand_tensor), torch.argmax(rand_tensor)\n"
      ],
      "metadata": {
        "colab": {
          "base_uri": "https://localhost:8080/"
        },
        "id": "o63nUpfek_0R",
        "outputId": "cb75c363-fde2-453f-bd5e-a3fa04629b9b"
      },
      "execution_count": 36,
      "outputs": [
        {
          "output_type": "execute_result",
          "data": {
            "text/plain": [
              "(tensor(0), tensor(9))"
            ]
          },
          "metadata": {},
          "execution_count": 36
        }
      ]
    },
    {
      "cell_type": "code",
      "source": [
        "tensor = torch.rand(10,10)\n",
        "tensor.argmax(), tensor.argmin()"
      ],
      "metadata": {
        "colab": {
          "base_uri": "https://localhost:8080/"
        },
        "id": "HDuIQBYKmQFC",
        "outputId": "83d16f35-1b03-49ca-ddec-ad88ba95f3c9"
      },
      "execution_count": 37,
      "outputs": [
        {
          "output_type": "execute_result",
          "data": {
            "text/plain": [
              "(tensor(31), tensor(52))"
            ]
          },
          "metadata": {},
          "execution_count": 37
        }
      ]
    },
    {
      "cell_type": "markdown",
      "source": [
        "####Reshaping, stacking, squeezing and unsqueezing tensors\n",
        "* Reshaping: reshapes a tensor to a defined shape\n",
        "* View: return a view of an input tensor of certain shape but keep the same memory as the original tensor\n",
        "* Stacking: combine multiple tensors on top of each other (vstack-vertical stack, hstack-horizontal stack)\n",
        "* Squeeze: removes all `1` dimensions from a tensor\n",
        "* Unsqueeze: add a `1` dimension to a target tensor\n",
        "* Permute: Return a view of the input with dimensions permuted (swapped) in a certain way\n"
      ],
      "metadata": {
        "id": "3zSiLNFMnbPP"
      }
    },
    {
      "cell_type": "code",
      "source": [
        "# example tensor\n",
        "x = torch.arange(1., 11.)\n",
        "x, x.shape"
      ],
      "metadata": {
        "colab": {
          "base_uri": "https://localhost:8080/"
        },
        "id": "vIBGjOCbnZXa",
        "outputId": "2cf57007-e50f-41ae-c880-b2f68ef827d9"
      },
      "execution_count": 38,
      "outputs": [
        {
          "output_type": "execute_result",
          "data": {
            "text/plain": [
              "(tensor([ 1.,  2.,  3.,  4.,  5.,  6.,  7.,  8.,  9., 10.]), torch.Size([10]))"
            ]
          },
          "metadata": {},
          "execution_count": 38
        }
      ]
    },
    {
      "cell_type": "code",
      "source": [
        "#Reshape the tensor\n",
        "#Add an extra dimension\n",
        "x.reshape(2,5), x.reshape(5,2)"
      ],
      "metadata": {
        "colab": {
          "base_uri": "https://localhost:8080/"
        },
        "id": "Dau5Ha_6qcMf",
        "outputId": "ee91ecba-45bf-45f2-9d56-133957b56617"
      },
      "execution_count": 39,
      "outputs": [
        {
          "output_type": "execute_result",
          "data": {
            "text/plain": [
              "(tensor([[ 1.,  2.,  3.,  4.,  5.],\n",
              "         [ 6.,  7.,  8.,  9., 10.]]),\n",
              " tensor([[ 1.,  2.],\n",
              "         [ 3.,  4.],\n",
              "         [ 5.,  6.],\n",
              "         [ 7.,  8.],\n",
              "         [ 9., 10.]]))"
            ]
          },
          "metadata": {},
          "execution_count": 39
        }
      ]
    },
    {
      "cell_type": "code",
      "source": [
        "x.reshape(2,5).shape, x.reshape(5,2).shape"
      ],
      "metadata": {
        "colab": {
          "base_uri": "https://localhost:8080/"
        },
        "id": "e1pce2XsqmIZ",
        "outputId": "fd8a1df3-1473-43ff-a07c-17eff5e0216b"
      },
      "execution_count": 40,
      "outputs": [
        {
          "output_type": "execute_result",
          "data": {
            "text/plain": [
              "(torch.Size([2, 5]), torch.Size([5, 2]))"
            ]
          },
          "metadata": {},
          "execution_count": 40
        }
      ]
    },
    {
      "cell_type": "code",
      "source": [
        "# Change the View **Note that a view of a tensor share the same memory as the origianl tensor\n",
        "z = x.view(2,5)\n",
        "z[:,0] = 5 #Here we adjusted tensor z\n",
        "z, x #But checking z and x, both same element has been changed since view()"
      ],
      "metadata": {
        "colab": {
          "base_uri": "https://localhost:8080/"
        },
        "id": "N47GF9GXqsV2",
        "outputId": "4feacae2-df72-4ffa-e763-f047376dde55"
      },
      "execution_count": 41,
      "outputs": [
        {
          "output_type": "execute_result",
          "data": {
            "text/plain": [
              "(tensor([[ 5.,  2.,  3.,  4.,  5.],\n",
              "         [ 5.,  7.,  8.,  9., 10.]]),\n",
              " tensor([ 5.,  2.,  3.,  4.,  5.,  5.,  7.,  8.,  9., 10.]))"
            ]
          },
          "metadata": {},
          "execution_count": 41
        }
      ]
    },
    {
      "cell_type": "code",
      "source": [
        "# Stack tensors on top of each other\n",
        "\n",
        "stacked = torch.stack([x,x,x,x], dim=0)\n",
        "stacked\n"
      ],
      "metadata": {
        "colab": {
          "base_uri": "https://localhost:8080/"
        },
        "id": "I9E07sRxsC1D",
        "outputId": "7dbc8c30-0c39-4032-97ee-1cb1b11b3834"
      },
      "execution_count": 42,
      "outputs": [
        {
          "output_type": "execute_result",
          "data": {
            "text/plain": [
              "tensor([[ 5.,  2.,  3.,  4.,  5.,  5.,  7.,  8.,  9., 10.],\n",
              "        [ 5.,  2.,  3.,  4.,  5.,  5.,  7.,  8.,  9., 10.],\n",
              "        [ 5.,  2.,  3.,  4.,  5.,  5.,  7.,  8.,  9., 10.],\n",
              "        [ 5.,  2.,  3.,  4.,  5.,  5.,  7.,  8.,  9., 10.]])"
            ]
          },
          "metadata": {},
          "execution_count": 42
        }
      ]
    }
  ]
}