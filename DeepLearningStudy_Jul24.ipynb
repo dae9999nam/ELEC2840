{
  "nbformat": 4,
  "nbformat_minor": 0,
  "metadata": {
    "colab": {
      "provenance": [],
      "gpuType": "T4",
      "authorship_tag": "ABX9TyO9yp1AG+Oi18XEXMUPXOTn",
      "include_colab_link": true
    },
    "kernelspec": {
      "name": "python3",
      "display_name": "Python 3"
    },
    "language_info": {
      "name": "python"
    },
    "accelerator": "GPU"
  },
  "cells": [
    {
      "cell_type": "markdown",
      "metadata": {
        "id": "view-in-github",
        "colab_type": "text"
      },
      "source": [
        "<a href=\"https://colab.research.google.com/github/dae9999nam/SL_Blog/blob/main/DeepLearningStudy_Jul24.ipynb\" target=\"_parent\"><img src=\"https://colab.research.google.com/assets/colab-badge.svg\" alt=\"Open In Colab\"/></a>"
      ]
    },
    {
      "cell_type": "markdown",
      "source": [
        "**Pytorch Self Learning Study**\n",
        "###Reference: https://pytorch.org/docs/stable/\n",
        "###Youtube source: https://www.youtube.com/watch?v=V_xro1bcAuA&t=2598s"
      ],
      "metadata": {
        "id": "lnfPyDbqxMdF"
      }
    },
    {
      "cell_type": "markdown",
      "source": [
        "Start Date: 2024.07.24"
      ],
      "metadata": {
        "id": "3FhS0TTxx8su"
      }
    },
    {
      "cell_type": "markdown",
      "source": [
        "Notebook Setting: T4 GPU"
      ],
      "metadata": {
        "id": "FQ44S_HWx--L"
      }
    },
    {
      "cell_type": "code",
      "source": [
        "import torch\n",
        "import numpy as np\n",
        "import pandas as pd\n",
        "import matplotlib.pyplot as plt\n",
        "print(torch.__version__)"
      ],
      "metadata": {
        "colab": {
          "base_uri": "https://localhost:8080/"
        },
        "id": "mlhegGQXxWiY",
        "outputId": "f9db5a97-c0bd-4116-83f7-f33bfcff791f"
      },
      "execution_count": 1,
      "outputs": [
        {
          "output_type": "stream",
          "name": "stdout",
          "text": [
            "2.3.1+cu121\n"
          ]
        }
      ]
    },
    {
      "cell_type": "markdown",
      "source": [],
      "metadata": {
        "id": "0j9rw1Sh0-aH"
      }
    },
    {
      "cell_type": "markdown",
      "source": [
        "torch version: 2.3.1 cubaversion: 1.2.1"
      ],
      "metadata": {
        "id": "pMKxmQG30WvL"
      }
    },
    {
      "cell_type": "markdown",
      "source": [],
      "metadata": {
        "id": "HINYzsRj2Ahg"
      }
    },
    {
      "cell_type": "markdown",
      "source": [
        "##1. Introduction to Tensors\n"
      ],
      "metadata": {
        "id": "XdKHrCc51Twt"
      }
    },
    {
      "cell_type": "markdown",
      "source": [
        "###1-1.Creating Tensors and observe the characters"
      ],
      "metadata": {
        "id": "PbbvCIda--U0"
      }
    },
    {
      "cell_type": "code",
      "source": [
        "#Scalars\n",
        "scalar = torch.tensor(7)\n",
        "scalar"
      ],
      "metadata": {
        "colab": {
          "base_uri": "https://localhost:8080/"
        },
        "id": "5QnvXxqi0390",
        "outputId": "ee6f1f79-1dba-4a28-edb8-1e851a0e4b44"
      },
      "execution_count": 2,
      "outputs": [
        {
          "output_type": "execute_result",
          "data": {
            "text/plain": [
              "tensor(7)"
            ]
          },
          "metadata": {},
          "execution_count": 2
        }
      ]
    },
    {
      "cell_type": "code",
      "source": [
        "scalar.ndim"
      ],
      "metadata": {
        "colab": {
          "base_uri": "https://localhost:8080/"
        },
        "id": "cSSaSXm74h01",
        "outputId": "406c1960-684b-4f59-a9d1-e890c749a1d2"
      },
      "execution_count": 3,
      "outputs": [
        {
          "output_type": "execute_result",
          "data": {
            "text/plain": [
              "0"
            ]
          },
          "metadata": {},
          "execution_count": 3
        }
      ]
    },
    {
      "cell_type": "code",
      "source": [
        "scalar.item()"
      ],
      "metadata": {
        "colab": {
          "base_uri": "https://localhost:8080/"
        },
        "id": "jXKteoeB4moI",
        "outputId": "23fcb07a-6eca-4b91-b757-4d865387c155"
      },
      "execution_count": 4,
      "outputs": [
        {
          "output_type": "execute_result",
          "data": {
            "text/plain": [
              "7"
            ]
          },
          "metadata": {},
          "execution_count": 4
        }
      ]
    },
    {
      "cell_type": "code",
      "source": [
        "#vectors\n",
        "vectors = torch.tensor([1,1])\n",
        "vectors"
      ],
      "metadata": {
        "colab": {
          "base_uri": "https://localhost:8080/"
        },
        "id": "g-rkYXoU4r7e",
        "outputId": "2b7de700-435f-4712-a9a9-9940e3781f7c"
      },
      "execution_count": 5,
      "outputs": [
        {
          "output_type": "execute_result",
          "data": {
            "text/plain": [
              "tensor([1, 1])"
            ]
          },
          "metadata": {},
          "execution_count": 5
        }
      ]
    },
    {
      "cell_type": "code",
      "source": [
        "vectors.ndim"
      ],
      "metadata": {
        "colab": {
          "base_uri": "https://localhost:8080/"
        },
        "id": "nS_7yQBu49KH",
        "outputId": "b99c60b4-fe29-4d24-95a0-d761620eb6f8"
      },
      "execution_count": 6,
      "outputs": [
        {
          "output_type": "execute_result",
          "data": {
            "text/plain": [
              "1"
            ]
          },
          "metadata": {},
          "execution_count": 6
        }
      ]
    },
    {
      "cell_type": "code",
      "source": [
        "vectors.shape"
      ],
      "metadata": {
        "colab": {
          "base_uri": "https://localhost:8080/"
        },
        "id": "J93RJ_mn5FnY",
        "outputId": "9a08e912-e5f4-4d67-b503-294b448c8ed8"
      },
      "execution_count": 7,
      "outputs": [
        {
          "output_type": "execute_result",
          "data": {
            "text/plain": [
              "torch.Size([2])"
            ]
          },
          "metadata": {},
          "execution_count": 7
        }
      ]
    },
    {
      "cell_type": "code",
      "source": [
        "#MATRIX\n",
        "MATRIX = torch.tensor([[1,2],[3,4]])\n",
        "MATRIX"
      ],
      "metadata": {
        "colab": {
          "base_uri": "https://localhost:8080/"
        },
        "id": "x_j8C1Qa5JHX",
        "outputId": "efabe958-5e42-422d-a07a-8f404d32d9e2"
      },
      "execution_count": 8,
      "outputs": [
        {
          "output_type": "execute_result",
          "data": {
            "text/plain": [
              "tensor([[1, 2],\n",
              "        [3, 4]])"
            ]
          },
          "metadata": {},
          "execution_count": 8
        }
      ]
    },
    {
      "cell_type": "code",
      "source": [
        "MATRIX.ndim"
      ],
      "metadata": {
        "colab": {
          "base_uri": "https://localhost:8080/"
        },
        "id": "estA-Kxq5PMt",
        "outputId": "f139f631-0653-435c-f4e9-26d4a188b07e"
      },
      "execution_count": 9,
      "outputs": [
        {
          "output_type": "execute_result",
          "data": {
            "text/plain": [
              "2"
            ]
          },
          "metadata": {},
          "execution_count": 9
        }
      ]
    },
    {
      "cell_type": "code",
      "source": [
        "MATRIX.shape"
      ],
      "metadata": {
        "colab": {
          "base_uri": "https://localhost:8080/"
        },
        "id": "axFnnOAF5R0f",
        "outputId": "1afde032-c7ea-49d8-aae5-d332f05912cb"
      },
      "execution_count": 10,
      "outputs": [
        {
          "output_type": "execute_result",
          "data": {
            "text/plain": [
              "torch.Size([2, 2])"
            ]
          },
          "metadata": {},
          "execution_count": 10
        }
      ]
    },
    {
      "cell_type": "code",
      "source": [
        "#TENSORS\n",
        "TENSOR = torch.tensor([[[1,2,3],\n",
        "                        [4,5,6],\n",
        "                        [7,8,9]]])\n",
        "TENSOR"
      ],
      "metadata": {
        "colab": {
          "base_uri": "https://localhost:8080/"
        },
        "id": "EyuJlLti5WFE",
        "outputId": "cb8fc464-67ae-496a-fec3-ab98046487f4"
      },
      "execution_count": 11,
      "outputs": [
        {
          "output_type": "execute_result",
          "data": {
            "text/plain": [
              "tensor([[[1, 2, 3],\n",
              "         [4, 5, 6],\n",
              "         [7, 8, 9]]])"
            ]
          },
          "metadata": {},
          "execution_count": 11
        }
      ]
    },
    {
      "cell_type": "code",
      "source": [
        "TENSOR.ndim"
      ],
      "metadata": {
        "colab": {
          "base_uri": "https://localhost:8080/"
        },
        "id": "uXXRe4Vi5qS-",
        "outputId": "0cab3ce8-58c4-4ee0-8fb5-bb7ef887c307"
      },
      "execution_count": 12,
      "outputs": [
        {
          "output_type": "execute_result",
          "data": {
            "text/plain": [
              "3"
            ]
          },
          "metadata": {},
          "execution_count": 12
        }
      ]
    },
    {
      "cell_type": "code",
      "source": [
        "TENSOR.shape"
      ],
      "metadata": {
        "colab": {
          "base_uri": "https://localhost:8080/"
        },
        "id": "vMIzWAtw5s60",
        "outputId": "cf98404d-a1b1-47c3-c23e-c95fb7eccab9"
      },
      "execution_count": 13,
      "outputs": [
        {
          "output_type": "execute_result",
          "data": {
            "text/plain": [
              "torch.Size([1, 3, 3])"
            ]
          },
          "metadata": {},
          "execution_count": 13
        }
      ]
    },
    {
      "cell_type": "markdown",
      "source": [
        "#####Variable name for scalar and vector are represented by lower case\n",
        "#####Variable name for MATRIX and TENSOR are represented by upper case"
      ],
      "metadata": {
        "id": "1izA3D3a6JGi"
      }
    },
    {
      "cell_type": "markdown",
      "source": [
        "###1.2 Creating Random Tensors\n",
        "####Why random tensor\n",
        "#####Random tensors are important because the way neural networks learn is that they start with tensors full of random numbers and then adjust those random numbers to better represent the data.\n",
        "`Start with random numbers -> look at data -> update random numbers -> look at data -> update random numbers`"
      ],
      "metadata": {
        "id": "g1iWIfc45609"
      }
    },
    {
      "cell_type": "code",
      "source": [
        "#Create random tensors\n",
        "random_tensor = torch.rand(3,4) # == torch.rand(size=(3,4))\n",
        "random_tensor"
      ],
      "metadata": {
        "colab": {
          "base_uri": "https://localhost:8080/"
        },
        "id": "h9DJfFHG8XTU",
        "outputId": "615128b6-152b-4f24-f574-88044f246645"
      },
      "execution_count": 14,
      "outputs": [
        {
          "output_type": "execute_result",
          "data": {
            "text/plain": [
              "tensor([[0.8646, 0.5461, 0.3222, 0.5947],\n",
              "        [0.1993, 0.4236, 0.4581, 0.8069],\n",
              "        [0.0889, 0.7598, 0.8331, 0.6308]])"
            ]
          },
          "metadata": {},
          "execution_count": 14
        }
      ]
    },
    {
      "cell_type": "code",
      "source": [
        "#Create a random tensor with similar shape to an image tensor\n",
        "random_image_tensor = torch.rand(size=(224,224,3)) #height, width, colour channel (R,G,B)\n",
        "# can be torch.rand(size=(3, 224, 224)) => parameters in colour channel, height, width order\n",
        "random_image_tensor.shape, random_image_tensor.ndim"
      ],
      "metadata": {
        "colab": {
          "base_uri": "https://localhost:8080/"
        },
        "id": "9DGtbhv989ME",
        "outputId": "aa6bcaa5-2772-47c5-e0b6-cc96079339f2"
      },
      "execution_count": 15,
      "outputs": [
        {
          "output_type": "execute_result",
          "data": {
            "text/plain": [
              "(torch.Size([224, 224, 3]), 3)"
            ]
          },
          "metadata": {},
          "execution_count": 15
        }
      ]
    },
    {
      "cell_type": "markdown",
      "source": [
        "###1.3 Creating Tensors with all zeros and ones"
      ],
      "metadata": {
        "id": "GOeuwRs7_Ijy"
      }
    },
    {
      "cell_type": "code",
      "source": [
        "##Tensors with zeros and ones\n",
        "zeros = torch.zeros(size=(3,4))\n",
        "zeros"
      ],
      "metadata": {
        "colab": {
          "base_uri": "https://localhost:8080/"
        },
        "id": "aJ4aUkYt-VA7",
        "outputId": "0f694bfd-0684-4abf-f075-ad50a71fb99e"
      },
      "execution_count": 16,
      "outputs": [
        {
          "output_type": "execute_result",
          "data": {
            "text/plain": [
              "tensor([[0., 0., 0., 0.],\n",
              "        [0., 0., 0., 0.],\n",
              "        [0., 0., 0., 0.]])"
            ]
          },
          "metadata": {},
          "execution_count": 16
        }
      ]
    },
    {
      "cell_type": "code",
      "source": [
        "ones = torch.ones(3,4)\n",
        "ones"
      ],
      "metadata": {
        "colab": {
          "base_uri": "https://localhost:8080/"
        },
        "id": "y51sDlIN_SfW",
        "outputId": "c3c818e8-c083-46ca-b904-790f28f5ce19"
      },
      "execution_count": 17,
      "outputs": [
        {
          "output_type": "execute_result",
          "data": {
            "text/plain": [
              "tensor([[1., 1., 1., 1.],\n",
              "        [1., 1., 1., 1.],\n",
              "        [1., 1., 1., 1.]])"
            ]
          },
          "metadata": {},
          "execution_count": 17
        }
      ]
    },
    {
      "cell_type": "code",
      "source": [
        "##reasons for floating points in the tensors\n",
        "#default setting for dtype of tensor is float32\n",
        "ones.dtype"
      ],
      "metadata": {
        "colab": {
          "base_uri": "https://localhost:8080/"
        },
        "id": "tFbc5ulu_XBj",
        "outputId": "9ad2de00-f21b-45f8-ebe3-b4ca1382aa4b"
      },
      "execution_count": 18,
      "outputs": [
        {
          "output_type": "execute_result",
          "data": {
            "text/plain": [
              "torch.float32"
            ]
          },
          "metadata": {},
          "execution_count": 18
        }
      ]
    },
    {
      "cell_type": "markdown",
      "source": [
        "###Usage of Zero tensors\n",
        "######Zero tensor can be used to make the target tensor or specific column or row to be zero by multiplying corresponding zero tensor\n",
        "\n",
        "```\n",
        "zeros * random_tensor\n",
        "```\n",
        "\n"
      ],
      "metadata": {
        "id": "CQz7V0Urp00F"
      }
    },
    {
      "cell_type": "markdown",
      "source": [
        "###1.4 Creating a range of tensors and tensors-like\n"
      ],
      "metadata": {
        "id": "rLTk9WXw_0uT"
      }
    },
    {
      "cell_type": "code",
      "source": [
        "#Use torch.arange(start, end, step)\n",
        "one_to_ten = torch.arange(1,11)\n",
        "one_to_ten"
      ],
      "metadata": {
        "id": "YX04mHnt_jd8",
        "colab": {
          "base_uri": "https://localhost:8080/"
        },
        "outputId": "cf19ba87-a7aa-4341-9503-5435c6e7270e"
      },
      "execution_count": 19,
      "outputs": [
        {
          "output_type": "execute_result",
          "data": {
            "text/plain": [
              "tensor([ 1,  2,  3,  4,  5,  6,  7,  8,  9, 10])"
            ]
          },
          "metadata": {},
          "execution_count": 19
        }
      ]
    },
    {
      "cell_type": "code",
      "source": [
        "#Creating tensors-like : create same size of tensor as input tensor\n",
        "ten_zeros = torch.zeros_like(input=one_to_ten)\n",
        "ten_zeros"
      ],
      "metadata": {
        "colab": {
          "base_uri": "https://localhost:8080/"
        },
        "id": "a79F7IE5rTzn",
        "outputId": "a6ddec1c-c526-49d2-fe86-3a6279a18962"
      },
      "execution_count": 20,
      "outputs": [
        {
          "output_type": "execute_result",
          "data": {
            "text/plain": [
              "tensor([0, 0, 0, 0, 0, 0, 0, 0, 0, 0])"
            ]
          },
          "metadata": {},
          "execution_count": 20
        }
      ]
    },
    {
      "cell_type": "markdown",
      "source": [
        "###1.5 Tensor Datatype\n",
        "####**Note:** Tensor datatype is one of the three big errors you will run into with Pytorch and Deep Learning:\n",
        "\n",
        "1. Tensors not right datatype\n",
        "2. Tensors not right shape\n",
        "3. Tensors not on right device"
      ],
      "metadata": {
        "id": "yC9ysnemsCpj"
      }
    },
    {
      "cell_type": "code",
      "source": [
        "#Float32 Tensor\n",
        "Float_32_tensor = torch.tensor([3., 6., 9.], dtype=None) #The default datatype of tensor is float32\n",
        "Float_32_tensor.dtype"
      ],
      "metadata": {
        "colab": {
          "base_uri": "https://localhost:8080/"
        },
        "id": "Le2tuJTcsKE7",
        "outputId": "54ed7faf-5f96-48d2-c7fa-de1c075b4075"
      },
      "execution_count": 21,
      "outputs": [
        {
          "output_type": "execute_result",
          "data": {
            "text/plain": [
              "torch.float32"
            ]
          },
          "metadata": {},
          "execution_count": 21
        }
      ]
    },
    {
      "cell_type": "code",
      "source": [
        "Test_tensor = torch.tensor([3., 6., 9.], dtype=torch.float16)\n",
        "Test_tensor.dtype\n"
      ],
      "metadata": {
        "colab": {
          "base_uri": "https://localhost:8080/"
        },
        "id": "6YJMF5RIsjSm",
        "outputId": "8779156f-7a32-43ef-90ff-9210262dbfd4"
      },
      "execution_count": 22,
      "outputs": [
        {
          "output_type": "execute_result",
          "data": {
            "text/plain": [
              "torch.float16"
            ]
          },
          "metadata": {},
          "execution_count": 22
        }
      ]
    },
    {
      "cell_type": "code",
      "source": [
        "Test_tensor = torch.tensor([3.,6.,9.],\n",
        "                           dtype=torch.float32,#what datatype tensor is\n",
        "                           device=None,  #what device your tensor is on\n",
        "                           requires_grad=False) #whether to track gradients with tensors operation"
      ],
      "metadata": {
        "id": "ka2gDFf4syqL"
      },
      "execution_count": 23,
      "outputs": []
    },
    {
      "cell_type": "code",
      "source": [
        "float_16_tensor = Test_tensor.type(torch.float16) #Test_nesor.type(torch.half)\n",
        "float_16_tensor\n"
      ],
      "metadata": {
        "colab": {
          "base_uri": "https://localhost:8080/"
        },
        "id": "fJGdrgl3vDis",
        "outputId": "c1b390f3-37ca-4b95-e68f-c8cffa668fe7"
      },
      "execution_count": 24,
      "outputs": [
        {
          "output_type": "execute_result",
          "data": {
            "text/plain": [
              "tensor([3., 6., 9.], dtype=torch.float16)"
            ]
          },
          "metadata": {},
          "execution_count": 24
        }
      ]
    },
    {
      "cell_type": "code",
      "source": [
        "float_16_tensor * Test_tensor"
      ],
      "metadata": {
        "colab": {
          "base_uri": "https://localhost:8080/"
        },
        "id": "3GalzSTRvd-r",
        "outputId": "97f09640-6544-4ec3-fae1-801b066993c7"
      },
      "execution_count": 25,
      "outputs": [
        {
          "output_type": "execute_result",
          "data": {
            "text/plain": [
              "tensor([ 9., 36., 81.])"
            ]
          },
          "metadata": {},
          "execution_count": 25
        }
      ]
    },
    {
      "cell_type": "code",
      "source": [
        "#How to check tensor information #Tensor attribute\n",
        "#datatype = tensor.dtype\n",
        "#shape = tensor.shape, tensor.size() --> size() is a function\n",
        "#device = tensor.device"
      ],
      "metadata": {
        "id": "89K21Wsq8nzv"
      },
      "execution_count": 26,
      "outputs": []
    },
    {
      "cell_type": "markdown",
      "source": [
        "### 1.6 Manipulating tensor (Tensor Operations)"
      ],
      "metadata": {
        "id": "Xl1xxQCZ980B"
      }
    },
    {
      "cell_type": "code",
      "source": [
        "#Tensor Manipulation (Tensor Operations)\n",
        "#Addition\n",
        "#Subtraction\n",
        "#Multiplication (element-wise)\n",
        "#Division\n",
        "#Matrix multiplication (dot product)"
      ],
      "metadata": {
        "id": "yjqCyVBp98ZM"
      },
      "execution_count": 27,
      "outputs": []
    },
    {
      "cell_type": "code",
      "source": [
        "#Addition\n",
        "tensor = torch.tensor([1,2,3])\n",
        "tensor + 10"
      ],
      "metadata": {
        "colab": {
          "base_uri": "https://localhost:8080/"
        },
        "id": "Vo2Rm3Az8_Nb",
        "outputId": "3a11fcab-c600-4ade-e363-4d3c0d9409d7"
      },
      "execution_count": 28,
      "outputs": [
        {
          "output_type": "execute_result",
          "data": {
            "text/plain": [
              "tensor([11, 12, 13])"
            ]
          },
          "metadata": {},
          "execution_count": 28
        }
      ]
    },
    {
      "cell_type": "code",
      "source": [
        "#Multiplication\n",
        "tensor * 10"
      ],
      "metadata": {
        "colab": {
          "base_uri": "https://localhost:8080/"
        },
        "id": "B2V2T1no-zgp",
        "outputId": "1775a758-f967-4669-ed7c-f02e8177c150"
      },
      "execution_count": 29,
      "outputs": [
        {
          "output_type": "execute_result",
          "data": {
            "text/plain": [
              "tensor([10, 20, 30])"
            ]
          },
          "metadata": {},
          "execution_count": 29
        }
      ]
    },
    {
      "cell_type": "code",
      "source": [
        "#Subtraction\n",
        "tensor - 10"
      ],
      "metadata": {
        "colab": {
          "base_uri": "https://localhost:8080/"
        },
        "id": "iwUC4Wr0-55Z",
        "outputId": "6e92e5d0-f668-4077-9597-86ea20753040"
      },
      "execution_count": 30,
      "outputs": [
        {
          "output_type": "execute_result",
          "data": {
            "text/plain": [
              "tensor([-9, -8, -7])"
            ]
          },
          "metadata": {},
          "execution_count": 30
        }
      ]
    },
    {
      "cell_type": "code",
      "source": [
        "#Tensor built-in function\n",
        "torch.mul(tensor, 10), torch.add(tensor, 10), torch.sub(tensor, 10)"
      ],
      "metadata": {
        "colab": {
          "base_uri": "https://localhost:8080/"
        },
        "id": "7IkKk1gZ_NwT",
        "outputId": "dc5a1ac3-b3c5-446b-8211-1e50fbc2b5ef"
      },
      "execution_count": 31,
      "outputs": [
        {
          "output_type": "execute_result",
          "data": {
            "text/plain": [
              "(tensor([10, 20, 30]), tensor([11, 12, 13]), tensor([-9, -8, -7]))"
            ]
          },
          "metadata": {},
          "execution_count": 31
        }
      ]
    },
    {
      "cell_type": "code",
      "source": [
        "#Tensor Matrix multiplication\n",
        "torch.matmul(tensor, tensor)\n",
        "#Or\n",
        "#tensor @ tensor"
      ],
      "metadata": {
        "colab": {
          "base_uri": "https://localhost:8080/"
        },
        "id": "iGqMt2EZ_RVJ",
        "outputId": "b2e512ff-f472-4156-9ec5-64a228fd8a7a"
      },
      "execution_count": 32,
      "outputs": [
        {
          "output_type": "execute_result",
          "data": {
            "text/plain": [
              "tensor(14)"
            ]
          },
          "metadata": {},
          "execution_count": 32
        }
      ]
    },
    {
      "cell_type": "markdown",
      "source": [
        "#####There are two main rules for matrix multiplication needs to be satisfied:\n",
        "1. The **inner dimension** must match\n",
        "2. The resulting matrix has the shape of **outer dimension**"
      ],
      "metadata": {
        "id": "p5YP0-hFGlfU"
      }
    },
    {
      "cell_type": "markdown",
      "source": [
        "###One of the most common errors in deep learning: **Shape Error**\n",
        "#####To deal with the shape error, we can use ***Transpose**\n",
        "`Transpose = Tensor.T `\n"
      ],
      "metadata": {
        "id": "Nh4b2XEiHRX2"
      }
    },
    {
      "cell_type": "code",
      "source": [
        "rand_tens = torch.rand(3,2)\n",
        "\n",
        "rand_tens, rand_tens.T\n"
      ],
      "metadata": {
        "id": "1ovVXslpFMTC",
        "colab": {
          "base_uri": "https://localhost:8080/"
        },
        "outputId": "4db7f0df-f185-4a75-f1b2-73dc46441ea0"
      },
      "execution_count": 36,
      "outputs": [
        {
          "output_type": "execute_result",
          "data": {
            "text/plain": [
              "(tensor([[0.2580, 0.9841],\n",
              "         [0.1647, 0.3528],\n",
              "         [0.9944, 0.3040]]),\n",
              " tensor([[0.2580, 0.1647, 0.9944],\n",
              "         [0.9841, 0.3528, 0.3040]]))"
            ]
          },
          "metadata": {},
          "execution_count": 36
        }
      ]
    },
    {
      "cell_type": "markdown",
      "source": [
        "### 1.7 Tensor Aggregation\n",
        "####Finding min, max, mean, sum, etc"
      ],
      "metadata": {
        "id": "JS69A8ZVjHxk"
      }
    },
    {
      "cell_type": "code",
      "source": [
        "rand_tensor = torch.arange(0,100,10)\n",
        "rand_tensor, rand_tensor.min(), rand_tensor.max(), rand_tensor.type(torch.float32).mean()\n",
        "#Could be torch.min(rand_tensor), torch.max(rand_tensor), torch.mean(rand_tensor.type(torch.float32))"
      ],
      "metadata": {
        "colab": {
          "base_uri": "https://localhost:8080/"
        },
        "id": "z4_19UOcjQ2d",
        "outputId": "4df54bfe-b49f-4741-a327-3ae033298621"
      },
      "execution_count": 37,
      "outputs": [
        {
          "output_type": "execute_result",
          "data": {
            "text/plain": [
              "(tensor([ 0, 10, 20, 30, 40, 50, 60, 70, 80, 90]),\n",
              " tensor(0),\n",
              " tensor(90),\n",
              " tensor(45.))"
            ]
          },
          "metadata": {},
          "execution_count": 37
        }
      ]
    },
    {
      "cell_type": "code",
      "source": [
        "#Why change in dtype for mean() function?\n",
        "rand_tensor.dtype # torch.int64 == Long datatype\n",
        "# **NOTE**\n",
        "#Input dtype must be either a floating point or complex dtype for mean() function\n",
        "#Thus, we need to change the dtype of the tensor to use mean()\n",
        "#From the following result, we can also note that arange() function creates tensor with dtype of int64"
      ],
      "metadata": {
        "colab": {
          "base_uri": "https://localhost:8080/"
        },
        "id": "DCY7vWc_j14d",
        "outputId": "c27cdfc6-be05-452f-cf32-8355cb4dee36"
      },
      "execution_count": 41,
      "outputs": [
        {
          "output_type": "execute_result",
          "data": {
            "text/plain": [
              "torch.int64"
            ]
          },
          "metadata": {},
          "execution_count": 41
        }
      ]
    },
    {
      "cell_type": "code",
      "source": [
        "#Finding index of the min, max, mean value in the tensor\n",
        "rand_tensor.argmin(), rand_tensor.argmax() # == torch.argmin(rand_tensor), torch.argmax(rand_tensor)\n"
      ],
      "metadata": {
        "colab": {
          "base_uri": "https://localhost:8080/"
        },
        "id": "o63nUpfek_0R",
        "outputId": "3b3ae8bf-67d0-494d-e52e-7f290207660e"
      },
      "execution_count": 42,
      "outputs": [
        {
          "output_type": "execute_result",
          "data": {
            "text/plain": [
              "(tensor(0), tensor(9))"
            ]
          },
          "metadata": {},
          "execution_count": 42
        }
      ]
    },
    {
      "cell_type": "code",
      "source": [
        "tensor = torch.rand(10,10)\n",
        "tensor.argmax(), tensor.argmin()"
      ],
      "metadata": {
        "colab": {
          "base_uri": "https://localhost:8080/"
        },
        "id": "HDuIQBYKmQFC",
        "outputId": "a37b797f-c9f7-46fb-873e-c4e060f4ac6e"
      },
      "execution_count": 45,
      "outputs": [
        {
          "output_type": "execute_result",
          "data": {
            "text/plain": [
              "(tensor(35), tensor(77))"
            ]
          },
          "metadata": {},
          "execution_count": 45
        }
      ]
    }
  ]
}